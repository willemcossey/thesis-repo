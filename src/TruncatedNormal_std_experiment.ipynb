{
 "cells": [
  {
   "cell_type": "code",
   "execution_count": null,
   "id": "71abd0e1",
   "metadata": {},
   "outputs": [],
   "source": [
    "import pandas as pd\n",
    "import numpy as np\n",
    "from math import sqrt\n",
    "from helper.Distribution import TruncatedNormal, Uniform\n",
    "from tqdm import tqdm\n",
    "import matplotlib.pyplot as plt"
   ]
  },
  {
   "cell_type": "code",
   "execution_count": null,
   "id": "14071ed7",
   "metadata": {},
   "outputs": [],
   "source": [
    "lamb = 1.2\n",
    "n_samples = 10000\n",
    "\n",
    "max = 0.15\n",
    "resolution = 0.001\n",
    "\n",
    "gamma_range = resolution*np.array(range(1,int(max/resolution),1))"
   ]
  },
  {
   "cell_type": "code",
   "execution_count": null,
   "id": "b7975432",
   "metadata": {},
   "outputs": [],
   "source": [
    "results = pd.DataFrame(index = gamma_range, columns = ['underlying std','sample std'])\n",
    "for gamma in tqdm(gamma_range):\n",
    "    underlying_std = sqrt(lamb*gamma)\n",
    "    B = sqrt(12)*underlying_std/2\n",
    "    assert B <= 1- gamma\n",
    "    s = Uniform(-B,B).sample(n_samples)\n",
    "    #s = TruncatedNormal(0,underlying_std,[-(1-gamma),(1-gamma)]).sample(n_samples)\n",
    "    results.loc[gamma,:] = [underlying_std,np.std(s)]\n",
    "    \n",
    "    \n"
   ]
  },
  {
   "cell_type": "code",
   "execution_count": null,
   "id": "4e90d172",
   "metadata": {},
   "outputs": [],
   "source": [
    "results[\"rel_err\"] = abs(results[\"sample std\"]-results[\"underlying std\"])/results[\"underlying std\"]\n",
    "results[\"sample_lambda\"] = results[\"sample std\"]**2/results.index"
   ]
  },
  {
   "cell_type": "code",
   "execution_count": null,
   "id": "2aafdd11",
   "metadata": {},
   "outputs": [],
   "source": [
    "display(results)"
   ]
  },
  {
   "cell_type": "code",
   "execution_count": null,
   "id": "932a40dd",
   "metadata": {},
   "outputs": [],
   "source": [
    "p = plt.figure()\n",
    "plt.plot(results.index, results[\"underlying std\"])\n",
    "plt.plot(results.index, results[\"sample std\"])\n",
    "plt.show"
   ]
  },
  {
   "cell_type": "code",
   "execution_count": null,
   "id": "2a05b24f",
   "metadata": {},
   "outputs": [],
   "source": [
    "r = plt.figure()\n",
    "plt.semilogy(results.index, results[\"rel_err\"])\n",
    "plt.show"
   ]
  },
  {
   "cell_type": "code",
   "execution_count": null,
   "id": "6e719362",
   "metadata": {},
   "outputs": [],
   "source": []
  }
 ],
 "metadata": {
  "kernelspec": {
   "display_name": "thesis-env",
   "language": "python",
   "name": "thesis-env"
  },
  "language_info": {
   "codemirror_mode": {
    "name": "ipython",
    "version": 3
   },
   "file_extension": ".py",
   "mimetype": "text/x-python",
   "name": "python",
   "nbconvert_exporter": "python",
   "pygments_lexer": "ipython3",
   "version": "3.9.7"
  }
 },
 "nbformat": 4,
 "nbformat_minor": 5
}
