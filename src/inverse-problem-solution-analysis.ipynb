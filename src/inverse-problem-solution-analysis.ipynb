{
 "cells": [
  {
   "cell_type": "markdown",
   "id": "643d6083",
   "metadata": {},
   "source": [
    "## Analyse the results of a Posterior Sampling Routine\n",
    "\n",
    "- Load data\n",
    "\n",
    "### Symptoms\n",
    "\n",
    "- zoom in\n",
    "- Are there any lambda in lumps ?\n",
    "- Color samples wrt lump\n",
    "- Does running average look different ?\n",
    "\n",
    "### Diagnosis\n",
    "\n",
    "### Solution"
   ]
  },
  {
   "cell_type": "code",
   "execution_count": 578,
   "id": "48ad4318",
   "metadata": {},
   "outputs": [],
   "source": [
    "import numpy as np\n",
    "import random\n",
    "import os\n",
    "import matplotlib.pyplot as plt\n",
    "import pandas as pd\n",
    "import re\n",
    "from helper.SimulationJob import SimulationJob\n",
    "from math import sqrt\n",
    "from helper.InverseProblem import InverseProblem\n",
    "from scipy.stats import ks_2samp\n",
    "import seaborn as sns"
   ]
  },
  {
   "cell_type": "code",
   "execution_count": 545,
   "id": "c370c5fb",
   "metadata": {},
   "outputs": [
    {
     "data": {
      "text/plain": [
       "['C:\\\\Users\\\\wille\\\\thesis-repo\\\\src\\\\experiment-data\\\\inverse-validation-exp5~multiple\\\\data\\\\experiment-5--synth-data-lmb-2.0-m-0.0-t_horiz-200-nagents-10000.npy--noise-0.1-n_observations-50-num_rounds-6000-burn_in-1000-proposal--0.05-0.05--initial_sample--0.5--0.5--t_horiz-100-nagents-1000-start-27457025-seed-2838994052.npz',\n",
       " 'C:\\\\Users\\\\wille\\\\thesis-repo\\\\src\\\\experiment-data\\\\inverse-validation-exp5~multiple\\\\data\\\\experiment-5--synth-data-lmb-2.0-m-0.0-t_horiz-200-nagents-10000.npy--noise-0.1-n_observations-50-num_rounds-6000-burn_in-1000-proposal--0.05-0.05--initial_sample--0.5--0.5--t_horiz-100-nagents-1000-start-27457024-seed-2457933389.npz',\n",
       " 'C:\\\\Users\\\\wille\\\\thesis-repo\\\\src\\\\experiment-data\\\\inverse-validation-exp5~multiple\\\\data\\\\experiment-5--synth-data-lmb-2.0-m-0.0-t_horiz-200-nagents-10000.npy--noise-0.1-n_observations-100-num_rounds-6000-burn_in-1000-proposal--0.05-0.05--initial_sample--0.5--0.5--t_horiz-100-nagents-1000-start-27457025-seed-417671792.npz',\n",
       " 'C:\\\\Users\\\\wille\\\\thesis-repo\\\\src\\\\experiment-data\\\\inverse-validation-exp5~multiple\\\\data\\\\experiment-5--synth-data-lmb-2.0-m-0.0-t_horiz-200-nagents-10000.npy--noise-0.1-n_observations-50-num_rounds-6000-burn_in-1000-proposal--0.05-0.05--initial_sample--0.5--0.5--t_horiz-100-nagents-1000-start-27457024-seed-874260014.npz',\n",
       " 'C:\\\\Users\\\\wille\\\\thesis-repo\\\\src\\\\experiment-data\\\\inverse-validation-exp5~multiple\\\\data\\\\experiment-5--synth-data-lmb-2.0-m-0.0-t_horiz-200-nagents-10000.npy--noise-0.1-n_observations-50-num_rounds-6000-burn_in-1000-proposal--0.05-0.05--initial_sample--0.5--0.5--t_horiz-100-nagents-1000-start-27457025-seed-3887085583.npz',\n",
       " 'C:\\\\Users\\\\wille\\\\thesis-repo\\\\src\\\\experiment-data\\\\inverse-validation-exp5~multiple\\\\data\\\\experiment-5--synth-data-lmb-2.0-m-0.0-t_horiz-200-nagents-10000.npy--noise-0.1-n_observations-50-num_rounds-6000-burn_in-1000-proposal--0.05-0.05--initial_sample--0.5--0.5--t_horiz-100-nagents-1000-start-27457025-seed-2243551073.npz',\n",
       " 'C:\\\\Users\\\\wille\\\\thesis-repo\\\\src\\\\experiment-data\\\\inverse-validation-exp5~multiple\\\\data\\\\experiment-5--synth-data-lmb-2.0-m-0.0-t_horiz-200-nagents-10000.npy--noise-0.1-n_observations-50-num_rounds-6000-burn_in-1000-proposal--0.05-0.05--initial_sample--0.5--0.5--t_horiz-100-nagents-1000-start-27457024-seed-3129112023.npz',\n",
       " 'C:\\\\Users\\\\wille\\\\thesis-repo\\\\src\\\\experiment-data\\\\inverse-validation-exp5~multiple\\\\data\\\\experiment-5--synth-data-lmb-2.0-m-0.0-t_horiz-200-nagents-10000.npy--noise-0.1-n_observations-50-num_rounds-6000-burn_in-1000-proposal--0.05-0.05--initial_sample--0.5--0.5--t_horiz-100-nagents-1000-start-27457025-seed-1040404675.npz',\n",
       " 'C:\\\\Users\\\\wille\\\\thesis-repo\\\\src\\\\experiment-data\\\\inverse-validation-exp5~multiple\\\\data\\\\experiment-5--synth-data-lmb-2.0-m-0.0-t_horiz-200-nagents-10000.npy--noise-0.1-n_observations-100-num_rounds-6000-burn_in-1000-proposal--0.05-0.05--initial_sample--0.5--0.5--t_horiz-100-nagents-1000-start-27457025-seed-4113429432.npz',\n",
       " 'C:\\\\Users\\\\wille\\\\thesis-repo\\\\src\\\\experiment-data\\\\inverse-validation-exp5~multiple\\\\data\\\\experiment-5--synth-data-lmb-2.0-m-0.0-t_horiz-200-nagents-10000.npy--noise-0.1-n_observations-100-num_rounds-6000-burn_in-1000-proposal--0.05-0.05--initial_sample--0.5--0.5--t_horiz-100-nagents-1000-start-27457025-seed-2967409770.npz',\n",
       " 'C:\\\\Users\\\\wille\\\\thesis-repo\\\\src\\\\experiment-data\\\\inverse-validation-exp5~multiple\\\\data\\\\experiment-5--synth-data-lmb-2.0-m-0.0-t_horiz-200-nagents-10000.npy--noise-0.1-n_observations-50-num_rounds-6000-burn_in-1000-proposal--0.05-0.05--initial_sample--0.5--0.5--t_horiz-100-nagents-1000-start-27457025-seed-3646224635.npz',\n",
       " 'C:\\\\Users\\\\wille\\\\thesis-repo\\\\src\\\\experiment-data\\\\inverse-validation-exp5~multiple\\\\data\\\\experiment-5--synth-data-lmb-2.0-m-0.0-t_horiz-200-nagents-10000.npy--noise-0.1-n_observations-100-num_rounds-6000-burn_in-1000-proposal--0.05-0.05--initial_sample--0.5--0.5--t_horiz-100-nagents-1000-start-27457025-seed-3985563856.npz',\n",
       " 'C:\\\\Users\\\\wille\\\\thesis-repo\\\\src\\\\experiment-data\\\\inverse-validation-exp5~multiple\\\\data\\\\experiment-5--synth-data-lmb-2.0-m-0.0-t_horiz-200-nagents-10000.npy--noise-0.1-n_observations-50-num_rounds-6000-burn_in-1000-proposal--0.05-0.05--initial_sample--0.5--0.5--t_horiz-100-nagents-1000-start-27457025-seed-2051174505.npz',\n",
       " 'C:\\\\Users\\\\wille\\\\thesis-repo\\\\src\\\\experiment-data\\\\inverse-validation-exp5~multiple\\\\data\\\\experiment-5--synth-data-lmb-2.0-m-0.0-t_horiz-200-nagents-10000.npy--noise-0.1-n_observations-50-num_rounds-6000-burn_in-1000-proposal--0.05-0.05--initial_sample--0.5--0.5--t_horiz-100-nagents-1000-start-27457025-seed-3737294212.npz',\n",
       " 'C:\\\\Users\\\\wille\\\\thesis-repo\\\\src\\\\experiment-data\\\\inverse-validation-exp5~multiple\\\\data\\\\experiment-5--synth-data-lmb-2.0-m-0.0-t_horiz-200-nagents-10000.npy--noise-0.1-n_observations-100-num_rounds-6000-burn_in-1000-proposal--0.05-0.05--initial_sample--0.5--0.5--t_horiz-100-nagents-1000-start-27457025-seed-2282118977.npz',\n",
       " 'C:\\\\Users\\\\wille\\\\thesis-repo\\\\src\\\\experiment-data\\\\inverse-validation-exp5~multiple\\\\data\\\\experiment-5--synth-data-lmb-2.0-m-0.0-t_horiz-200-nagents-10000.npy--noise-0.1-n_observations-100-num_rounds-6000-burn_in-1000-proposal--0.05-0.05--initial_sample--0.5--0.5--t_horiz-100-nagents-1000-start-27457025-seed-3924397133.npz',\n",
       " 'C:\\\\Users\\\\wille\\\\thesis-repo\\\\src\\\\experiment-data\\\\inverse-validation-exp5~multiple\\\\data\\\\experiment-5--synth-data-lmb-2.0-m-0.0-t_horiz-200-nagents-10000.npy--noise-0.1-n_observations-100-num_rounds-6000-burn_in-1000-proposal--0.05-0.05--initial_sample--0.5--0.5--t_horiz-100-nagents-1000-start-27457025-seed-2677732735.npz',\n",
       " 'C:\\\\Users\\\\wille\\\\thesis-repo\\\\src\\\\experiment-data\\\\inverse-validation-exp5~multiple\\\\data\\\\experiment-5--synth-data-lmb-2.0-m-0.0-t_horiz-200-nagents-10000.npy--noise-0.1-n_observations-100-num_rounds-6000-burn_in-1000-proposal--0.05-0.05--initial_sample--0.5--0.5--t_horiz-100-nagents-1000-start-27457025-seed-1166399928.npz',\n",
       " 'C:\\\\Users\\\\wille\\\\thesis-repo\\\\src\\\\experiment-data\\\\inverse-validation-exp5~multiple\\\\data\\\\experiment-5--synth-data-lmb-2.0-m-0.0-t_horiz-200-nagents-10000.npy--noise-0.1-n_observations-100-num_rounds-6000-burn_in-1000-proposal--0.05-0.05--initial_sample--0.5--0.5--t_horiz-100-nagents-1000-start-27457025-seed-3386702976.npz',\n",
       " 'C:\\\\Users\\\\wille\\\\thesis-repo\\\\src\\\\experiment-data\\\\inverse-validation-exp5~multiple\\\\data\\\\experiment-5--synth-data-lmb-2.0-m-0.0-t_horiz-200-nagents-10000.npy--noise-0.1-n_observations-100-num_rounds-6000-burn_in-1000-proposal--0.05-0.05--initial_sample--0.5--0.5--t_horiz-100-nagents-1000-start-27457025-seed-3247409704.npz']"
      ]
     },
     "execution_count": 545,
     "metadata": {},
     "output_type": "execute_result"
    }
   ],
   "source": [
    "dirname = os.path.abspath(\"experiment-data\\\\inverse-validation-exp5~multiple\\\\data\")\n",
    "datafiles = np.array([\"experiment-5--synth-data-lmb-2.0-m-0.0-t_horiz-200-nagents-10000.npy--noise-0.1-n_observations-50-num_rounds-6000-burn_in-1000-proposal--0.05-0.05--initial_sample--0.5--0.5--t_horiz-100-nagents-1000-start-27457025-seed-2838994052.npz\",\"experiment-5--synth-data-lmb-2.0-m-0.0-t_horiz-200-nagents-10000.npy--noise-0.1-n_observations-50-num_rounds-6000-burn_in-1000-proposal--0.05-0.05--initial_sample--0.5--0.5--t_horiz-100-nagents-1000-start-27457024-seed-2457933389.npz\",\"experiment-5--synth-data-lmb-2.0-m-0.0-t_horiz-200-nagents-10000.npy--noise-0.1-n_observations-100-num_rounds-6000-burn_in-1000-proposal--0.05-0.05--initial_sample--0.5--0.5--t_horiz-100-nagents-1000-start-27457025-seed-417671792.npz\",\"experiment-5--synth-data-lmb-2.0-m-0.0-t_horiz-200-nagents-10000.npy--noise-0.1-n_observations-50-num_rounds-6000-burn_in-1000-proposal--0.05-0.05--initial_sample--0.5--0.5--t_horiz-100-nagents-1000-start-27457024-seed-874260014.npz\",\"experiment-5--synth-data-lmb-2.0-m-0.0-t_horiz-200-nagents-10000.npy--noise-0.1-n_observations-50-num_rounds-6000-burn_in-1000-proposal--0.05-0.05--initial_sample--0.5--0.5--t_horiz-100-nagents-1000-start-27457025-seed-3887085583.npz\",\"experiment-5--synth-data-lmb-2.0-m-0.0-t_horiz-200-nagents-10000.npy--noise-0.1-n_observations-50-num_rounds-6000-burn_in-1000-proposal--0.05-0.05--initial_sample--0.5--0.5--t_horiz-100-nagents-1000-start-27457025-seed-2243551073.npz\",\"experiment-5--synth-data-lmb-2.0-m-0.0-t_horiz-200-nagents-10000.npy--noise-0.1-n_observations-50-num_rounds-6000-burn_in-1000-proposal--0.05-0.05--initial_sample--0.5--0.5--t_horiz-100-nagents-1000-start-27457024-seed-3129112023.npz\",\"experiment-5--synth-data-lmb-2.0-m-0.0-t_horiz-200-nagents-10000.npy--noise-0.1-n_observations-50-num_rounds-6000-burn_in-1000-proposal--0.05-0.05--initial_sample--0.5--0.5--t_horiz-100-nagents-1000-start-27457025-seed-1040404675.npz\",\"experiment-5--synth-data-lmb-2.0-m-0.0-t_horiz-200-nagents-10000.npy--noise-0.1-n_observations-100-num_rounds-6000-burn_in-1000-proposal--0.05-0.05--initial_sample--0.5--0.5--t_horiz-100-nagents-1000-start-27457025-seed-4113429432.npz\",\"experiment-5--synth-data-lmb-2.0-m-0.0-t_horiz-200-nagents-10000.npy--noise-0.1-n_observations-100-num_rounds-6000-burn_in-1000-proposal--0.05-0.05--initial_sample--0.5--0.5--t_horiz-100-nagents-1000-start-27457025-seed-2967409770.npz\",\"experiment-5--synth-data-lmb-2.0-m-0.0-t_horiz-200-nagents-10000.npy--noise-0.1-n_observations-50-num_rounds-6000-burn_in-1000-proposal--0.05-0.05--initial_sample--0.5--0.5--t_horiz-100-nagents-1000-start-27457025-seed-3646224635.npz\",\"experiment-5--synth-data-lmb-2.0-m-0.0-t_horiz-200-nagents-10000.npy--noise-0.1-n_observations-100-num_rounds-6000-burn_in-1000-proposal--0.05-0.05--initial_sample--0.5--0.5--t_horiz-100-nagents-1000-start-27457025-seed-3985563856.npz\",\"experiment-5--synth-data-lmb-2.0-m-0.0-t_horiz-200-nagents-10000.npy--noise-0.1-n_observations-50-num_rounds-6000-burn_in-1000-proposal--0.05-0.05--initial_sample--0.5--0.5--t_horiz-100-nagents-1000-start-27457025-seed-2051174505.npz\",\"experiment-5--synth-data-lmb-2.0-m-0.0-t_horiz-200-nagents-10000.npy--noise-0.1-n_observations-50-num_rounds-6000-burn_in-1000-proposal--0.05-0.05--initial_sample--0.5--0.5--t_horiz-100-nagents-1000-start-27457025-seed-3737294212.npz\",\"experiment-5--synth-data-lmb-2.0-m-0.0-t_horiz-200-nagents-10000.npy--noise-0.1-n_observations-100-num_rounds-6000-burn_in-1000-proposal--0.05-0.05--initial_sample--0.5--0.5--t_horiz-100-nagents-1000-start-27457025-seed-2282118977.npz\",\"experiment-5--synth-data-lmb-2.0-m-0.0-t_horiz-200-nagents-10000.npy--noise-0.1-n_observations-100-num_rounds-6000-burn_in-1000-proposal--0.05-0.05--initial_sample--0.5--0.5--t_horiz-100-nagents-1000-start-27457025-seed-3924397133.npz\",\"experiment-5--synth-data-lmb-2.0-m-0.0-t_horiz-200-nagents-10000.npy--noise-0.1-n_observations-100-num_rounds-6000-burn_in-1000-proposal--0.05-0.05--initial_sample--0.5--0.5--t_horiz-100-nagents-1000-start-27457025-seed-2677732735.npz\",\"experiment-5--synth-data-lmb-2.0-m-0.0-t_horiz-200-nagents-10000.npy--noise-0.1-n_observations-100-num_rounds-6000-burn_in-1000-proposal--0.05-0.05--initial_sample--0.5--0.5--t_horiz-100-nagents-1000-start-27457025-seed-1166399928.npz\",\"experiment-5--synth-data-lmb-2.0-m-0.0-t_horiz-200-nagents-10000.npy--noise-0.1-n_observations-100-num_rounds-6000-burn_in-1000-proposal--0.05-0.05--initial_sample--0.5--0.5--t_horiz-100-nagents-1000-start-27457025-seed-3386702976.npz\",\"experiment-5--synth-data-lmb-2.0-m-0.0-t_horiz-200-nagents-10000.npy--noise-0.1-n_observations-100-num_rounds-6000-burn_in-1000-proposal--0.05-0.05--initial_sample--0.5--0.5--t_horiz-100-nagents-1000-start-27457025-seed-3247409704.npz\"])\n",
    "#files_to_load = range(0,len(datafiles))\n",
    "files_to_load = range(0,20)\n",
    "paths = [os.path.join(dirname,datafiles[i]) for i in files_to_load]\n",
    "paths"
   ]
  },
  {
   "cell_type": "code",
   "execution_count": 546,
   "id": "29f6bf78",
   "metadata": {},
   "outputs": [],
   "source": [
    "all_data = [np.load(p) for p in paths]"
   ]
  },
  {
   "cell_type": "code",
   "execution_count": 547,
   "id": "811148b0",
   "metadata": {
    "scrolled": true
   },
   "outputs": [
    {
     "data": {
      "text/plain": [
       "'experiment-5--synth-data-lmb-2.0-m-0.0-t_horiz-200-nagents-10000.npy--noise-0.1-n_observations-100-num_rounds-6000-burn_in-1000-proposal--0.05-0.05--initial_sample--0.5--0.5--t_horiz-100-nagents-1000-start-27457025-seed-3386702976.npz'"
      ]
     },
     "execution_count": 547,
     "metadata": {},
     "output_type": "execute_result"
    }
   ],
   "source": [
    "in_research = 18\n",
    "name = datafiles[in_research]\n",
    "data = all_data[in_research]\n",
    "name"
   ]
  },
  {
   "cell_type": "code",
   "execution_count": 548,
   "id": "d99a7092",
   "metadata": {},
   "outputs": [
    {
     "name": "stdout",
     "output_type": "stream",
     "text": [
      "synth-data-lmb-2.0-m-0.0-t_horiz-200-nagents-10000.npy\n"
     ]
    }
   ],
   "source": [
    "x = re.search(\"(?<=--)(.*?)(?=--)\", name)\n",
    "synth_data_name = x.group()\n",
    "print(synth_data_name)\n",
    "#y = re.findall(\"(?<=-)(.*?)(?=[-/.])\",synth_data_name)\n",
    "#print(y)"
   ]
  },
  {
   "cell_type": "code",
   "execution_count": 549,
   "id": "9526751b",
   "metadata": {
    "scrolled": true
   },
   "outputs": [
    {
     "data": {
      "text/plain": [
       "<numpy.lib.npyio.NpzFile at 0x1baec7d84c0>"
      ]
     },
     "execution_count": 549,
     "metadata": {},
     "output_type": "execute_result"
    }
   ],
   "source": [
    "data"
   ]
  },
  {
   "cell_type": "code",
   "execution_count": 550,
   "id": "49fc1a50",
   "metadata": {},
   "outputs": [],
   "source": [
    "df = pd.DataFrame.from_dict(dict(data),orient='columns')"
   ]
  },
  {
   "cell_type": "code",
   "execution_count": 551,
   "id": "20755b6a",
   "metadata": {},
   "outputs": [
    {
     "data": {
      "text/html": [
       "<div>\n",
       "<style scoped>\n",
       "    .dataframe tbody tr th:only-of-type {\n",
       "        vertical-align: middle;\n",
       "    }\n",
       "\n",
       "    .dataframe tbody tr th {\n",
       "        vertical-align: top;\n",
       "    }\n",
       "\n",
       "    .dataframe thead th {\n",
       "        text-align: right;\n",
       "    }\n",
       "</style>\n",
       "<table border=\"1\" class=\"dataframe\">\n",
       "  <thead>\n",
       "    <tr style=\"text-align: right;\">\n",
       "      <th></th>\n",
       "      <th>lmb</th>\n",
       "      <th>m</th>\n",
       "    </tr>\n",
       "  </thead>\n",
       "  <tbody>\n",
       "    <tr>\n",
       "      <th>1000</th>\n",
       "      <td>2.740764</td>\n",
       "      <td>0.049843</td>\n",
       "    </tr>\n",
       "    <tr>\n",
       "      <th>1001</th>\n",
       "      <td>2.740861</td>\n",
       "      <td>0.106286</td>\n",
       "    </tr>\n",
       "    <tr>\n",
       "      <th>1002</th>\n",
       "      <td>2.775821</td>\n",
       "      <td>0.098754</td>\n",
       "    </tr>\n",
       "    <tr>\n",
       "      <th>1003</th>\n",
       "      <td>2.756672</td>\n",
       "      <td>0.065677</td>\n",
       "    </tr>\n",
       "    <tr>\n",
       "      <th>1004</th>\n",
       "      <td>2.756672</td>\n",
       "      <td>0.065677</td>\n",
       "    </tr>\n",
       "    <tr>\n",
       "      <th>...</th>\n",
       "      <td>...</td>\n",
       "      <td>...</td>\n",
       "    </tr>\n",
       "    <tr>\n",
       "      <th>6996</th>\n",
       "      <td>2.557606</td>\n",
       "      <td>0.109202</td>\n",
       "    </tr>\n",
       "    <tr>\n",
       "      <th>6997</th>\n",
       "      <td>2.557606</td>\n",
       "      <td>0.109202</td>\n",
       "    </tr>\n",
       "    <tr>\n",
       "      <th>6998</th>\n",
       "      <td>2.561051</td>\n",
       "      <td>0.075246</td>\n",
       "    </tr>\n",
       "    <tr>\n",
       "      <th>6999</th>\n",
       "      <td>2.519694</td>\n",
       "      <td>0.089542</td>\n",
       "    </tr>\n",
       "    <tr>\n",
       "      <th>7000</th>\n",
       "      <td>2.519694</td>\n",
       "      <td>0.089542</td>\n",
       "    </tr>\n",
       "  </tbody>\n",
       "</table>\n",
       "<p>6001 rows × 2 columns</p>\n",
       "</div>"
      ],
      "text/plain": [
       "           lmb         m\n",
       "1000  2.740764  0.049843\n",
       "1001  2.740861  0.106286\n",
       "1002  2.775821  0.098754\n",
       "1003  2.756672  0.065677\n",
       "1004  2.756672  0.065677\n",
       "...        ...       ...\n",
       "6996  2.557606  0.109202\n",
       "6997  2.557606  0.109202\n",
       "6998  2.561051  0.075246\n",
       "6999  2.519694  0.089542\n",
       "7000  2.519694  0.089542\n",
       "\n",
       "[6001 rows x 2 columns]"
      ]
     },
     "execution_count": 551,
     "metadata": {},
     "output_type": "execute_result"
    }
   ],
   "source": [
    "df\n",
    "burnin = 1000\n",
    "df_postburn = df.loc[burnin:,:]\n",
    "df_postburn"
   ]
  },
  {
   "cell_type": "code",
   "execution_count": 552,
   "id": "2d1bc00c",
   "metadata": {
    "scrolled": true
   },
   "outputs": [
    {
     "data": {
      "image/png": "[encoded data removed]",
      "text/plain": [
       "<Figure size 432x288 with 2 Axes>"
      ]
     },
     "metadata": {
      "needs_background": "light"
     },
     "output_type": "display_data"
    }
   ],
   "source": [
    "plt.figure(1)\n",
    "plt.subplot(211)\n",
    "#plt.scatter(df.index,df['lmb'],marker='x')\n",
    "plt.plot(df.index,df['lmb'])\n",
    "plt.subplot(212)\n",
    "plt.plot(df.index,df['m'])\n",
    "plt.show()\n"
   ]
  },
  {
   "cell_type": "code",
   "execution_count": 553,
   "id": "81edc37f",
   "metadata": {},
   "outputs": [
    {
     "data": {
      "image/png": "[encoded data removed]",
      "text/plain": [
       "<IPython.core.display.Image object>"
      ]
     },
     "execution_count": 553,
     "metadata": {},
     "output_type": "execute_result"
    }
   ],
   "source": [
    "from IPython.display import Image\n",
    "Image(filename=f\"\"\"experiment-data\\\\inverse-validation-exp5~multiple\\\\hist-from--{name}-.png\"\"\")"
   ]
  },
  {
   "cell_type": "code",
   "execution_count": 554,
   "id": "b071b78f",
   "metadata": {
    "scrolled": false
   },
   "outputs": [
    {
     "data": {
      "image/png": "[encoded data removed]",
      "text/plain": [
       "<Figure size 432x288 with 2 Axes>"
      ]
     },
     "metadata": {
      "needs_background": "light"
     },
     "output_type": "display_data"
    }
   ],
   "source": [
    "fig, axs = plt.subplots(1, 2, sharey=True, tight_layout=True)\n",
    "lmb_count, lmb_x, _ = axs[0].hist(df_postburn.loc[:,'lmb'],bins=200)\n",
    "m_count, m_x, _ = axs[1].hist(df_postburn.loc[:,'m'],bins=200)\n",
    "plt.show()"
   ]
  },
  {
   "cell_type": "code",
   "execution_count": 555,
   "id": "a0c180d2",
   "metadata": {},
   "outputs": [
    {
     "name": "stdout",
     "output_type": "stream",
     "text": [
      "0.025797961061297336 1.7693384961915095\n"
     ]
    }
   ],
   "source": [
    "m_MAP = float(m_x[np.argmax(m_count)])\n",
    "lmb_MAP = float(lmb_x[np.argmax(lmb_count)])\n",
    "print(m_MAP,lmb_MAP)\n",
    "MAP = dict(m=m_MAP,lmb=lmb_MAP)"
   ]
  },
  {
   "cell_type": "code",
   "execution_count": 573,
   "id": "006e27e5",
   "metadata": {},
   "outputs": [
    {
     "data": {
      "image/png": "[encoded data removed]",
      "text/plain": [
       "<Figure size 432x288 with 1 Axes>"
      ]
     },
     "metadata": {
      "needs_background": "light"
     },
     "output_type": "display_data"
    }
   ],
   "source": [
    "plt.figure()\n",
    "plt.hist2d(df_postburn.loc[:,'lmb'],df_postburn.loc[:,'m'],density=True)\n",
    "plt.show()"
   ]
  },
  {
   "cell_type": "code",
   "execution_count": 582,
   "id": "bfb304c9",
   "metadata": {},
   "outputs": [
    {
     "data": {
      "image/png": "[encoded data removed]",
      "text/plain": [
       "<Figure size 360x360 with 6 Axes>"
      ]
     },
     "metadata": {
      "needs_background": "light"
     },
     "output_type": "display_data"
    }
   ],
   "source": [
    "sns.pairplot(df_postburn,kind='hist')\n",
    "plt.show()"
   ]
  },
  {
   "cell_type": "code",
   "execution_count": 556,
   "id": "380b22f7",
   "metadata": {},
   "outputs": [
    {
     "data": {
      "text/html": [
       "<div>\n",
       "<style scoped>\n",
       "    .dataframe tbody tr th:only-of-type {\n",
       "        vertical-align: middle;\n",
       "    }\n",
       "\n",
       "    .dataframe tbody tr th {\n",
       "        vertical-align: top;\n",
       "    }\n",
       "\n",
       "    .dataframe thead th {\n",
       "        text-align: right;\n",
       "    }\n",
       "</style>\n",
       "<table border=\"1\" class=\"dataframe\">\n",
       "  <thead>\n",
       "    <tr style=\"text-align: right;\">\n",
       "      <th></th>\n",
       "      <th>w</th>\n",
       "    </tr>\n",
       "  </thead>\n",
       "  <tbody>\n",
       "    <tr>\n",
       "      <th>0</th>\n",
       "      <td>-0.210422</td>\n",
       "    </tr>\n",
       "    <tr>\n",
       "      <th>1</th>\n",
       "      <td>-0.810868</td>\n",
       "    </tr>\n",
       "    <tr>\n",
       "      <th>2</th>\n",
       "      <td>0.780883</td>\n",
       "    </tr>\n",
       "    <tr>\n",
       "      <th>3</th>\n",
       "      <td>-0.908357</td>\n",
       "    </tr>\n",
       "    <tr>\n",
       "      <th>4</th>\n",
       "      <td>0.560201</td>\n",
       "    </tr>\n",
       "    <tr>\n",
       "      <th>...</th>\n",
       "      <td>...</td>\n",
       "    </tr>\n",
       "    <tr>\n",
       "      <th>9995</th>\n",
       "      <td>0.877026</td>\n",
       "    </tr>\n",
       "    <tr>\n",
       "      <th>9996</th>\n",
       "      <td>-0.305868</td>\n",
       "    </tr>\n",
       "    <tr>\n",
       "      <th>9997</th>\n",
       "      <td>0.211145</td>\n",
       "    </tr>\n",
       "    <tr>\n",
       "      <th>9998</th>\n",
       "      <td>0.617518</td>\n",
       "    </tr>\n",
       "    <tr>\n",
       "      <th>9999</th>\n",
       "      <td>0.624023</td>\n",
       "    </tr>\n",
       "  </tbody>\n",
       "</table>\n",
       "<p>10000 rows × 1 columns</p>\n",
       "</div>"
      ],
      "text/plain": [
       "             w\n",
       "0    -0.210422\n",
       "1    -0.810868\n",
       "2     0.780883\n",
       "3    -0.908357\n",
       "4     0.560201\n",
       "...        ...\n",
       "9995  0.877026\n",
       "9996 -0.305868\n",
       "9997  0.211145\n",
       "9998  0.617518\n",
       "9999  0.624023\n",
       "\n",
       "[10000 rows x 1 columns]"
      ]
     },
     "execution_count": 556,
     "metadata": {},
     "output_type": "execute_result"
    }
   ],
   "source": [
    "synth_data_path = f\"\"\"experiment-data\\\\{synth_data_name}\"\"\"\n",
    "synth = np.load(synth_data_path)\n",
    "s_df = pd.DataFrame(synth,columns = [\"w\"])\n",
    "s_df"
   ]
  },
  {
   "cell_type": "code",
   "execution_count": 557,
   "id": "bfff8265",
   "metadata": {},
   "outputs": [
    {
     "data": {
      "image/png": "[encoded data removed]",
      "text/plain": [
       "<Figure size 432x288 with 1 Axes>"
      ]
     },
     "metadata": {
      "needs_background": "light"
     },
     "output_type": "display_data"
    }
   ],
   "source": [
    "plt.figure(1)\n",
    "plt.hist(s_df[\"w\"],bins=200)\n",
    "plt.show()"
   ]
  },
  {
   "cell_type": "code",
   "execution_count": 558,
   "id": "3c23730a",
   "metadata": {},
   "outputs": [],
   "source": [
    "def generate_invariant(lmb,m):\n",
    "    gamma = 0.01\n",
    "    theta_std = sqrt(gamma * lmb)\n",
    "    assert gamma > 0\n",
    "    experiment_assumptions = dict(\n",
    "        free_parameters={\"lmb\", \"m\"},\n",
    "        theta_bound=lambda g, w: (1 - g) / (1 + abs(w)),\n",
    "        gamma=gamma,\n",
    "        lmb_bound=(1 / (3 * gamma) - 2 / 3 + gamma / 3),\n",
    "        p=lambda w: 1,\n",
    "        d=lambda w: (1 - w ** 2),\n",
    "        t_horiz=200,\n",
    "        nagents=10000,\n",
    "    )\n",
    "\n",
    "    t_horiz = experiment_assumptions[\"t_horiz\"]\n",
    "    nagents = experiment_assumptions[\"nagents\"]\n",
    "\n",
    "    # create synthetic data\n",
    "    job = SimulationJob(\n",
    "        gamma,\n",
    "        theta_std,\n",
    "        experiment_assumptions[\"theta_bound\"],\n",
    "        experiment_assumptions[\"p\"],\n",
    "        experiment_assumptions[\"d\"],\n",
    "        m,\n",
    "        t_horiz,\n",
    "        nagents,\n",
    "        True,\n",
    "    )\n",
    "\n",
    "    job.run()\n",
    "    return job.result"
   ]
  },
  {
   "cell_type": "code",
   "execution_count": 559,
   "id": "fa62f32f",
   "metadata": {},
   "outputs": [
    {
     "name": "stderr",
     "output_type": "stream",
     "text": [
      "100%|█████████████████████████████████████████████████████████████████████| 2000000/2000000 [00:57<00:00, 34646.11it/s]\n"
     ]
    }
   ],
   "source": [
    "for combo in [MAP,]:\n",
    "    combo[\"w\"] = generate_invariant(combo[\"lmb\"],combo[\"m\"])"
   ]
  },
  {
   "cell_type": "code",
   "execution_count": 560,
   "id": "c1baaa4f",
   "metadata": {},
   "outputs": [
    {
     "data": {
      "image/png": "[encoded data removed]",
      "text/plain": [
       "<Figure size 432x288 with 1 Axes>"
      ]
     },
     "metadata": {
      "needs_background": "light"
     },
     "output_type": "display_data"
    }
   ],
   "source": [
    "plt.figure(4)\n",
    "plt.hist(MAP[\"w\"],bins=200,histtype='step',label=\"MAP estimate\")\n",
    "plt.hist(s_df[\"w\"],bins=200,histtype = 'step',label=\"synthetic data\")\n",
    "plt.legend(loc='upper right',bbox_to_anchor =(1.4,1))\n",
    "plt.show()\n"
   ]
  },
  {
   "cell_type": "markdown",
   "id": "e2e2821b",
   "metadata": {},
   "source": [
    "### Zoom in "
   ]
  },
  {
   "cell_type": "code",
   "execution_count": 561,
   "id": "8fad6ab8",
   "metadata": {},
   "outputs": [],
   "source": [
    "start_index = 1600\n",
    "end_index = 1700"
   ]
  },
  {
   "cell_type": "code",
   "execution_count": 562,
   "id": "b0d6f22a",
   "metadata": {},
   "outputs": [
    {
     "data": {
      "text/plain": [
       "<matplotlib.collections.PathCollection at 0x1baee6a1fd0>"
      ]
     },
     "execution_count": 562,
     "metadata": {},
     "output_type": "execute_result"
    },
    {
     "data": {
      "image/png": "[encoded data removed]",
      "text/plain": [
       "<Figure size 432x288 with 2 Axes>"
      ]
     },
     "metadata": {
      "needs_background": "light"
     },
     "output_type": "display_data"
    }
   ],
   "source": [
    "df_zoom = df.loc[start_index:end_index,:]\n",
    "plt.figure(2)\n",
    "plt.subplot(211)\n",
    "plt.scatter(df_zoom.index,df_zoom.loc[:,'lmb'])\n",
    "plt.subplot(212)\n",
    "plt.scatter(df_zoom.index,df_zoom.loc[:,'m'])"
   ]
  },
  {
   "cell_type": "markdown",
   "id": "1c2ecc6c",
   "metadata": {},
   "source": [
    "### Comparison synthetic population vs synthetic sample"
   ]
  },
  {
   "cell_type": "code",
   "execution_count": 563,
   "id": "bcdf6d42",
   "metadata": {},
   "outputs": [],
   "source": [
    "def generate_synth_sample(synth_population,n_observations,noise_std,seed=None):\n",
    "    if seed is None:\n",
    "        seed = random.randint(1, 2**32 - 1)\n",
    "    else:\n",
    "        seed = seed\n",
    "\n",
    "    random.seed(seed)\n",
    "    np.random.seed(seed)\n",
    "    observed_data = synth_population[0:n_observations]\n",
    "    # add noise\n",
    "    noise_std = noise_std\n",
    "    noisy_observed_data = InverseProblem.add_noise(observed_data, noise_std)\n",
    "    return noisy_observed_data"
   ]
  },
  {
   "cell_type": "code",
   "execution_count": 564,
   "id": "39124aeb",
   "metadata": {},
   "outputs": [
    {
     "data": {
      "text/plain": [
       "'experiment-5--synth-data-lmb-2.0-m-0.0-t_horiz-200-nagents-10000.npy--noise-0.1-n_observations-100-num_rounds-6000-burn_in-1000-proposal--0.05-0.05--initial_sample--0.5--0.5--t_horiz-100-nagents-1000-start-27457025-seed-3386702976.npz'"
      ]
     },
     "execution_count": 564,
     "metadata": {},
     "output_type": "execute_result"
    }
   ],
   "source": [
    "name"
   ]
  },
  {
   "cell_type": "code",
   "execution_count": 565,
   "id": "0f38fafd",
   "metadata": {},
   "outputs": [],
   "source": [
    "seed = int(re.search(\"(?<=seed-)(.*?)(?=[.])\",name).group())\n",
    "noise = float(re.search(\"(?<=noise-)(.*?)(?=[-])\",name).group())\n",
    "n_observations = int(re.search(\"(?<=n_observations-)(.*?)(?=[-])\",name).group())"
   ]
  },
  {
   "cell_type": "code",
   "execution_count": 566,
   "id": "07577413",
   "metadata": {},
   "outputs": [
    {
     "name": "stdout",
     "output_type": "stream",
     "text": [
      "3386702976 0.1 100\n"
     ]
    }
   ],
   "source": [
    "print(seed,noise,n_observations)"
   ]
  },
  {
   "cell_type": "code",
   "execution_count": 567,
   "id": "6b35d1b5",
   "metadata": {},
   "outputs": [
    {
     "data": {
      "text/plain": [
       "-0.03593815315022788"
      ]
     },
     "execution_count": 567,
     "metadata": {},
     "output_type": "execute_result"
    }
   ],
   "source": [
    "synth_sample = generate_synth_sample(synth,n_observations,noise,seed)\n",
    "np.mean(synth)"
   ]
  },
  {
   "cell_type": "code",
   "execution_count": 568,
   "id": "9b681e1a",
   "metadata": {},
   "outputs": [
    {
     "data": {
      "image/png": "[encoded data removed]",
      "text/plain": [
       "<Figure size 432x288 with 1 Axes>"
      ]
     },
     "metadata": {
      "needs_background": "light"
     },
     "output_type": "display_data"
    }
   ],
   "source": [
    "plt.figure(5)\n",
    "plt.hist(synth_sample,200)\n",
    "plt.show()"
   ]
  },
  {
   "cell_type": "code",
   "execution_count": 569,
   "id": "a16f6b28",
   "metadata": {},
   "outputs": [
    {
     "data": {
      "image/png": "[encoded data removed]",
      "text/plain": [
       "<Figure size 432x288 with 1 Axes>"
      ]
     },
     "metadata": {
      "needs_background": "light"
     },
     "output_type": "display_data"
    }
   ],
   "source": [
    "plt.figure(6)\n",
    "plt.hist(s_df[\"w\"],bins=200,label=\"synthetic population\",cumulative=True,density=True,color='paleturquoise')\n",
    "plt.hist(synth_sample,histtype = 'step',bins=200,cumulative=True,density=True,label=\"synthetic sample\",color='black')\n",
    "plt.hist(MAP[\"w\"],bins=200,histtype='step',label=\"MAP population estimate\",cumulative=True,density=True,color='dodgerblue')\n",
    "plt.legend()\n",
    "plt.show()"
   ]
  },
  {
   "cell_type": "code",
   "execution_count": 570,
   "id": "ad01bcf7",
   "metadata": {},
   "outputs": [
    {
     "data": {
      "text/html": [
       "<div>\n",
       "<style scoped>\n",
       "    .dataframe tbody tr th:only-of-type {\n",
       "        vertical-align: middle;\n",
       "    }\n",
       "\n",
       "    .dataframe tbody tr th {\n",
       "        vertical-align: top;\n",
       "    }\n",
       "\n",
       "    .dataframe thead th {\n",
       "        text-align: right;\n",
       "    }\n",
       "</style>\n",
       "<table border=\"1\" class=\"dataframe\">\n",
       "  <thead>\n",
       "    <tr style=\"text-align: right;\">\n",
       "      <th></th>\n",
       "      <th>p-value</th>\n",
       "    </tr>\n",
       "  </thead>\n",
       "  <tbody>\n",
       "    <tr>\n",
       "      <th>MAP</th>\n",
       "      <td>0.962192</td>\n",
       "    </tr>\n",
       "    <tr>\n",
       "      <th>synth data</th>\n",
       "      <td>0.912887</td>\n",
       "    </tr>\n",
       "  </tbody>\n",
       "</table>\n",
       "</div>"
      ],
      "text/plain": [
       "             p-value\n",
       "MAP         0.962192\n",
       "synth data  0.912887"
      ]
     },
     "metadata": {},
     "output_type": "display_data"
    }
   ],
   "source": [
    "ks_dist_MAP = ks_2samp(MAP[\"w\"],synth_sample)\n",
    "ks_dist_synth = ks_2samp(s_df[\"w\"],synth_sample)\n",
    "display(pd.DataFrame(index=[\"MAP\",\"synth data\"],data = [ks_dist_MAP.pvalue,ks_dist_synth.pvalue],columns = [\"p-value\"]))"
   ]
  },
  {
   "cell_type": "code",
   "execution_count": null,
   "id": "c96e91fb",
   "metadata": {},
   "outputs": [],
   "source": []
  }
 ],
 "metadata": {
  "kernelspec": {
   "display_name": "thesis-env",
   "language": "python",
   "name": "thesis-env"
  },
  "language_info": {
   "codemirror_mode": {
    "name": "ipython",
    "version": 3
   },
   "file_extension": ".py",
   "mimetype": "text/x-python",
   "name": "python",
   "nbconvert_exporter": "python",
   "pygments_lexer": "ipython3",
   "version": "3.9.7"
  }
 },
 "nbformat": 4,
 "nbformat_minor": 5
}
