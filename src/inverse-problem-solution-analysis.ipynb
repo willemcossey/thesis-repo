{
 "cells": [
  {
   "cell_type": "markdown",
   "id": "643d6083",
   "metadata": {},
   "source": [
    "## Analyse the results of a Posterior Sampling Routine\n",
    "\n",
    "- Load data\n",
    "\n",
    "### Symptoms\n",
    "\n",
    "- zoom in\n",
    "- Are there any lambda in lumps ?\n",
    "- Color samples wrt lump\n",
    "- Does running average look different ?\n",
    "\n",
    "### Diagnosis\n",
    "\n",
    "### Solution"
   ]
  },
  {
   "cell_type": "code",
   "execution_count": null,
   "id": "48ad4318",
   "metadata": {},
   "outputs": [],
   "source": [
    "import numpy as np\n",
    "import random\n",
    "import os\n",
    "import matplotlib.pyplot as plt\n",
    "import pandas as pd\n",
    "import re\n",
    "from helper.SimulationJob import SimulationJob\n",
    "from math import sqrt\n",
    "from helper.InverseProblem import InverseProblem\n",
    "from scipy.stats import ks_2samp\n",
    "import seaborn as sns"
   ]
  },
  {
   "cell_type": "code",
   "execution_count": null,
   "id": "c370c5fb",
   "metadata": {},
   "outputs": [],
   "source": [
    "dirname = os.path.abspath(\"experiment-data\\\\inverse-validation-exp5~multiple\\\\data\")\n",
    "datafiles = np.array([\"experiment-5--synth-data-lmb-2.0-m-0.0-t_horiz-200-nagents-10000.npy--noise-0.1-n_observations-50-num_rounds-6000-burn_in-1000-proposal--0.05-0.05--initial_sample--0.5--0.5--t_horiz-100-nagents-1000-start-27457025-seed-2838994052.npz\",\"experiment-5--synth-data-lmb-2.0-m-0.0-t_horiz-200-nagents-10000.npy--noise-0.1-n_observations-50-num_rounds-6000-burn_in-1000-proposal--0.05-0.05--initial_sample--0.5--0.5--t_horiz-100-nagents-1000-start-27457024-seed-2457933389.npz\",\"experiment-5--synth-data-lmb-2.0-m-0.0-t_horiz-200-nagents-10000.npy--noise-0.1-n_observations-100-num_rounds-6000-burn_in-1000-proposal--0.05-0.05--initial_sample--0.5--0.5--t_horiz-100-nagents-1000-start-27457025-seed-417671792.npz\",\"experiment-5--synth-data-lmb-2.0-m-0.0-t_horiz-200-nagents-10000.npy--noise-0.1-n_observations-50-num_rounds-6000-burn_in-1000-proposal--0.05-0.05--initial_sample--0.5--0.5--t_horiz-100-nagents-1000-start-27457024-seed-874260014.npz\",\"experiment-5--synth-data-lmb-2.0-m-0.0-t_horiz-200-nagents-10000.npy--noise-0.1-n_observations-50-num_rounds-6000-burn_in-1000-proposal--0.05-0.05--initial_sample--0.5--0.5--t_horiz-100-nagents-1000-start-27457025-seed-3887085583.npz\",\"experiment-5--synth-data-lmb-2.0-m-0.0-t_horiz-200-nagents-10000.npy--noise-0.1-n_observations-50-num_rounds-6000-burn_in-1000-proposal--0.05-0.05--initial_sample--0.5--0.5--t_horiz-100-nagents-1000-start-27457025-seed-2243551073.npz\",\"experiment-5--synth-data-lmb-2.0-m-0.0-t_horiz-200-nagents-10000.npy--noise-0.1-n_observations-50-num_rounds-6000-burn_in-1000-proposal--0.05-0.05--initial_sample--0.5--0.5--t_horiz-100-nagents-1000-start-27457024-seed-3129112023.npz\",\"experiment-5--synth-data-lmb-2.0-m-0.0-t_horiz-200-nagents-10000.npy--noise-0.1-n_observations-50-num_rounds-6000-burn_in-1000-proposal--0.05-0.05--initial_sample--0.5--0.5--t_horiz-100-nagents-1000-start-27457025-seed-1040404675.npz\",\"experiment-5--synth-data-lmb-2.0-m-0.0-t_horiz-200-nagents-10000.npy--noise-0.1-n_observations-100-num_rounds-6000-burn_in-1000-proposal--0.05-0.05--initial_sample--0.5--0.5--t_horiz-100-nagents-1000-start-27457025-seed-4113429432.npz\",\"experiment-5--synth-data-lmb-2.0-m-0.0-t_horiz-200-nagents-10000.npy--noise-0.1-n_observations-100-num_rounds-6000-burn_in-1000-proposal--0.05-0.05--initial_sample--0.5--0.5--t_horiz-100-nagents-1000-start-27457025-seed-2967409770.npz\",\"experiment-5--synth-data-lmb-2.0-m-0.0-t_horiz-200-nagents-10000.npy--noise-0.1-n_observations-50-num_rounds-6000-burn_in-1000-proposal--0.05-0.05--initial_sample--0.5--0.5--t_horiz-100-nagents-1000-start-27457025-seed-3646224635.npz\",\"experiment-5--synth-data-lmb-2.0-m-0.0-t_horiz-200-nagents-10000.npy--noise-0.1-n_observations-100-num_rounds-6000-burn_in-1000-proposal--0.05-0.05--initial_sample--0.5--0.5--t_horiz-100-nagents-1000-start-27457025-seed-3985563856.npz\",\"experiment-5--synth-data-lmb-2.0-m-0.0-t_horiz-200-nagents-10000.npy--noise-0.1-n_observations-50-num_rounds-6000-burn_in-1000-proposal--0.05-0.05--initial_sample--0.5--0.5--t_horiz-100-nagents-1000-start-27457025-seed-2051174505.npz\",\"experiment-5--synth-data-lmb-2.0-m-0.0-t_horiz-200-nagents-10000.npy--noise-0.1-n_observations-50-num_rounds-6000-burn_in-1000-proposal--0.05-0.05--initial_sample--0.5--0.5--t_horiz-100-nagents-1000-start-27457025-seed-3737294212.npz\",\"experiment-5--synth-data-lmb-2.0-m-0.0-t_horiz-200-nagents-10000.npy--noise-0.1-n_observations-100-num_rounds-6000-burn_in-1000-proposal--0.05-0.05--initial_sample--0.5--0.5--t_horiz-100-nagents-1000-start-27457025-seed-2282118977.npz\",\"experiment-5--synth-data-lmb-2.0-m-0.0-t_horiz-200-nagents-10000.npy--noise-0.1-n_observations-100-num_rounds-6000-burn_in-1000-proposal--0.05-0.05--initial_sample--0.5--0.5--t_horiz-100-nagents-1000-start-27457025-seed-3924397133.npz\",\"experiment-5--synth-data-lmb-2.0-m-0.0-t_horiz-200-nagents-10000.npy--noise-0.1-n_observations-100-num_rounds-6000-burn_in-1000-proposal--0.05-0.05--initial_sample--0.5--0.5--t_horiz-100-nagents-1000-start-27457025-seed-2677732735.npz\",\"experiment-5--synth-data-lmb-2.0-m-0.0-t_horiz-200-nagents-10000.npy--noise-0.1-n_observations-100-num_rounds-6000-burn_in-1000-proposal--0.05-0.05--initial_sample--0.5--0.5--t_horiz-100-nagents-1000-start-27457025-seed-1166399928.npz\",\"experiment-5--synth-data-lmb-2.0-m-0.0-t_horiz-200-nagents-10000.npy--noise-0.1-n_observations-100-num_rounds-6000-burn_in-1000-proposal--0.05-0.05--initial_sample--0.5--0.5--t_horiz-100-nagents-1000-start-27457025-seed-3386702976.npz\",\"experiment-5--synth-data-lmb-2.0-m-0.0-t_horiz-200-nagents-10000.npy--noise-0.1-n_observations-100-num_rounds-6000-burn_in-1000-proposal--0.05-0.05--initial_sample--0.5--0.5--t_horiz-100-nagents-1000-start-27457025-seed-3247409704.npz\"])\n",
    "#files_to_load = range(0,len(datafiles))\n",
    "files_to_load = range(0,20)\n",
    "paths = [os.path.join(dirname,datafiles[i]) for i in files_to_load]\n",
    "paths"
   ]
  },
  {
   "cell_type": "code",
   "execution_count": null,
   "id": "29f6bf78",
   "metadata": {},
   "outputs": [],
   "source": [
    "all_data = [np.load(p) for p in paths]"
   ]
  },
  {
   "cell_type": "code",
   "execution_count": null,
   "id": "811148b0",
   "metadata": {},
   "outputs": [],
   "source": [
    "in_research = 18\n",
    "name = datafiles[in_research]\n",
    "data = all_data[in_research]\n",
    "name"
   ]
  },
  {
   "cell_type": "code",
   "execution_count": null,
   "id": "d99a7092",
   "metadata": {},
   "outputs": [],
   "source": [
    "x = re.search(\"(?<=--)(.*?)(?=--)\", name)\n",
    "synth_data_name = x.group()\n",
    "print(synth_data_name)\n",
    "#y = re.findall(\"(?<=-)(.*?)(?=[-/.])\",synth_data_name)\n",
    "#print(y)"
   ]
  },
  {
   "cell_type": "code",
   "execution_count": null,
   "id": "9526751b",
   "metadata": {},
   "outputs": [],
   "source": [
    "data"
   ]
  },
  {
   "cell_type": "code",
   "execution_count": null,
   "id": "49fc1a50",
   "metadata": {},
   "outputs": [],
   "source": [
    "df = pd.DataFrame.from_dict(dict(data),orient='columns')"
   ]
  },
  {
   "cell_type": "code",
   "execution_count": null,
   "id": "20755b6a",
   "metadata": {},
   "outputs": [],
   "source": [
    "df\n",
    "burnin = 1000\n",
    "df_postburn = df.loc[burnin:,:]\n",
    "df_postburn"
   ]
  },
  {
   "cell_type": "code",
   "execution_count": null,
   "id": "2d1bc00c",
   "metadata": {},
   "outputs": [],
   "source": [
    "plt.figure(1)\n",
    "plt.subplot(211)\n",
    "#plt.scatter(df.index,df['lmb'],marker='x')\n",
    "plt.plot(df.index,df['lmb'])\n",
    "plt.subplot(212)\n",
    "plt.plot(df.index,df['m'])\n",
    "plt.show()\n"
   ]
  },
  {
   "cell_type": "code",
   "execution_count": null,
   "id": "81edc37f",
   "metadata": {},
   "outputs": [],
   "source": [
    "from IPython.display import Image\n",
    "Image(filename=f\"\"\"experiment-data\\\\inverse-validation-exp5~multiple\\\\hist-from--{name}-.png\"\"\")"
   ]
  },
  {
   "cell_type": "code",
   "execution_count": null,
   "id": "b071b78f",
   "metadata": {},
   "outputs": [],
   "source": [
    "fig, axs = plt.subplots(1, 2, sharey=True, tight_layout=True)\n",
    "lmb_count, lmb_x, _ = axs[0].hist(df_postburn.loc[:,'lmb'],bins=200)\n",
    "m_count, m_x, _ = axs[1].hist(df_postburn.loc[:,'m'],bins=200)\n",
    "plt.show()"
   ]
  },
  {
   "cell_type": "code",
   "execution_count": null,
   "id": "a0c180d2",
   "metadata": {},
   "outputs": [],
   "source": [
    "m_MAP = float(m_x[np.argmax(m_count)])\n",
    "lmb_MAP = float(lmb_x[np.argmax(lmb_count)])\n",
    "print(m_MAP,lmb_MAP)\n",
    "MAP = dict(m=m_MAP,lmb=lmb_MAP)"
   ]
  },
  {
   "cell_type": "code",
   "execution_count": null,
   "id": "006e27e5",
   "metadata": {},
   "outputs": [],
   "source": [
    "plt.figure()\n",
    "plt.hist2d(df_postburn.loc[:,'lmb'],df_postburn.loc[:,'m'],density=True)\n",
    "plt.show()"
   ]
  },
  {
   "cell_type": "code",
   "execution_count": null,
   "id": "bfb304c9",
   "metadata": {},
   "outputs": [],
   "source": [
    "sns.pairplot(df_postburn,kind='hist')\n",
    "plt.show()"
   ]
  },
  {
   "cell_type": "code",
   "execution_count": null,
   "id": "380b22f7",
   "metadata": {},
   "outputs": [],
   "source": [
    "synth_data_path = f\"\"\"experiment-data\\\\{synth_data_name}\"\"\"\n",
    "synth = np.load(synth_data_path)\n",
    "s_df = pd.DataFrame(synth,columns = [\"w\"])\n",
    "s_df"
   ]
  },
  {
   "cell_type": "code",
   "execution_count": null,
   "id": "bfff8265",
   "metadata": {},
   "outputs": [],
   "source": [
    "plt.figure(1)\n",
    "plt.hist(s_df[\"w\"],bins=200)\n",
    "plt.show()"
   ]
  },
  {
   "cell_type": "code",
   "execution_count": null,
   "id": "3c23730a",
   "metadata": {},
   "outputs": [],
   "source": [
    "def generate_invariant(lmb,m):\n",
    "    gamma = 0.01\n",
    "    theta_std = sqrt(gamma * lmb)\n",
    "    assert gamma > 0\n",
    "    experiment_assumptions = dict(\n",
    "        free_parameters={\"lmb\", \"m\"},\n",
    "        theta_bound=lambda g, w: (1 - g) / (1 + abs(w)),\n",
    "        gamma=gamma,\n",
    "        lmb_bound=(1 / (3 * gamma) - 2 / 3 + gamma / 3),\n",
    "        p=lambda w: 1,\n",
    "        d=lambda w: (1 - w ** 2),\n",
    "        t_horiz=200,\n",
    "        nagents=10000,\n",
    "    )\n",
    "\n",
    "    t_horiz = experiment_assumptions[\"t_horiz\"]\n",
    "    nagents = experiment_assumptions[\"nagents\"]\n",
    "\n",
    "    # create synthetic data\n",
    "    job = SimulationJob(\n",
    "        gamma,\n",
    "        theta_std,\n",
    "        experiment_assumptions[\"theta_bound\"],\n",
    "        experiment_assumptions[\"p\"],\n",
    "        experiment_assumptions[\"d\"],\n",
    "        m,\n",
    "        t_horiz,\n",
    "        nagents,\n",
    "        True,\n",
    "    )\n",
    "\n",
    "    job.run()\n",
    "    return job.result"
   ]
  },
  {
   "cell_type": "code",
   "execution_count": null,
   "id": "fa62f32f",
   "metadata": {},
   "outputs": [],
   "source": [
    "for combo in [MAP,]:\n",
    "    combo[\"w\"] = generate_invariant(combo[\"lmb\"],combo[\"m\"])"
   ]
  },
  {
   "cell_type": "code",
   "execution_count": null,
   "id": "c1baaa4f",
   "metadata": {},
   "outputs": [],
   "source": [
    "plt.figure(4)\n",
    "plt.hist(MAP[\"w\"],bins=200,histtype='step',label=\"MAP estimate\")\n",
    "plt.hist(s_df[\"w\"],bins=200,histtype = 'step',label=\"synthetic data\")\n",
    "plt.legend(loc='upper right',bbox_to_anchor =(1.4,1))\n",
    "plt.show()\n"
   ]
  },
  {
   "cell_type": "markdown",
   "id": "e2e2821b",
   "metadata": {},
   "source": [
    "### Zoom in "
   ]
  },
  {
   "cell_type": "code",
   "execution_count": null,
   "id": "8fad6ab8",
   "metadata": {},
   "outputs": [],
   "source": [
    "start_index = 1600\n",
    "end_index = 1700"
   ]
  },
  {
   "cell_type": "code",
   "execution_count": null,
   "id": "b0d6f22a",
   "metadata": {},
   "outputs": [],
   "source": [
    "df_zoom = df.loc[start_index:end_index,:]\n",
    "plt.figure(2)\n",
    "plt.subplot(211)\n",
    "plt.scatter(df_zoom.index,df_zoom.loc[:,'lmb'])\n",
    "plt.subplot(212)\n",
    "plt.scatter(df_zoom.index,df_zoom.loc[:,'m'])"
   ]
  },
  {
   "cell_type": "markdown",
   "id": "1c2ecc6c",
   "metadata": {},
   "source": [
    "### Comparison synthetic population vs synthetic sample"
   ]
  },
  {
   "cell_type": "code",
   "execution_count": null,
   "id": "bcdf6d42",
   "metadata": {},
   "outputs": [],
   "source": [
    "def generate_synth_sample(synth_population,n_observations,noise_std,seed=None):\n",
    "    if seed is None:\n",
    "        seed = random.randint(1, 2**32 - 1)\n",
    "    else:\n",
    "        seed = seed\n",
    "\n",
    "    random.seed(seed)\n",
    "    np.random.seed(seed)\n",
    "    observed_data = synth_population[0:n_observations]\n",
    "    # add noise\n",
    "    noise_std = noise_std\n",
    "    noisy_observed_data = InverseProblem.add_noise(observed_data, noise_std)\n",
    "    return noisy_observed_data"
   ]
  },
  {
   "cell_type": "code",
   "execution_count": null,
   "id": "39124aeb",
   "metadata": {},
   "outputs": [],
   "source": [
    "name"
   ]
  },
  {
   "cell_type": "code",
   "execution_count": null,
   "id": "0f38fafd",
   "metadata": {},
   "outputs": [],
   "source": [
    "seed = int(re.search(\"(?<=seed-)(.*?)(?=[.])\",name).group())\n",
    "noise = float(re.search(\"(?<=noise-)(.*?)(?=[-])\",name).group())\n",
    "n_observations = int(re.search(\"(?<=n_observations-)(.*?)(?=[-])\",name).group())"
   ]
  },
  {
   "cell_type": "code",
   "execution_count": null,
   "id": "07577413",
   "metadata": {},
   "outputs": [],
   "source": [
    "print(seed,noise,n_observations)"
   ]
  },
  {
   "cell_type": "code",
   "execution_count": null,
   "id": "6b35d1b5",
   "metadata": {},
   "outputs": [],
   "source": [
    "synth_sample = generate_synth_sample(synth,n_observations,noise,seed)\n",
    "np.mean(synth)"
   ]
  },
  {
   "cell_type": "code",
   "execution_count": null,
   "id": "9b681e1a",
   "metadata": {},
   "outputs": [],
   "source": [
    "plt.figure(5)\n",
    "plt.hist(synth_sample,200)\n",
    "plt.show()"
   ]
  },
  {
   "cell_type": "code",
   "execution_count": null,
   "id": "a16f6b28",
   "metadata": {},
   "outputs": [],
   "source": [
    "plt.figure(6)\n",
    "plt.hist(s_df[\"w\"],bins=200,label=\"synthetic population\",cumulative=True,density=True,color='paleturquoise')\n",
    "plt.hist(synth_sample,histtype = 'step',bins=200,cumulative=True,density=True,label=\"synthetic sample\",color='black')\n",
    "plt.hist(MAP[\"w\"],bins=200,histtype='step',label=\"MAP population estimate\",cumulative=True,density=True,color='dodgerblue')\n",
    "plt.legend()\n",
    "plt.show()"
   ]
  },
  {
   "cell_type": "code",
   "execution_count": null,
   "id": "ad01bcf7",
   "metadata": {},
   "outputs": [],
   "source": [
    "ks_dist_MAP = ks_2samp(MAP[\"w\"],synth_sample)\n",
    "ks_dist_synth = ks_2samp(s_df[\"w\"],synth_sample)\n",
    "display(pd.DataFrame(index=[\"MAP\",\"synth data\"],data = [ks_dist_MAP.pvalue,ks_dist_synth.pvalue],columns = [\"p-value\"]))"
   ]
  },
  {
   "cell_type": "code",
   "execution_count": null,
   "id": "c96e91fb",
   "metadata": {},
   "outputs": [],
   "source": []
  }
 ],
 "metadata": {
  "kernelspec": {
   "display_name": "thesis-env",
   "language": "python",
   "name": "thesis-env"
  },
  "language_info": {
   "codemirror_mode": {
    "name": "ipython",
    "version": 3
   },
   "file_extension": ".py",
   "mimetype": "text/x-python",
   "name": "python",
   "nbconvert_exporter": "python",
   "pygments_lexer": "ipython3",
   "version": "3.9.7"
  }
 },
 "nbformat": 4,
 "nbformat_minor": 5
}
