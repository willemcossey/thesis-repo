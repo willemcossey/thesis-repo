{
 "cells": [
  {
   "cell_type": "markdown",
   "id": "643d6083",
   "metadata": {},
   "source": [
    "## Analyse the results of a Posterior Sampling Routine\n",
    "\n",
    "###Tests:\n",
    "* number of observations -> more crudely stepped observation edf-> non-convergence and wider interval ?\n",
    "* amount of noise -> more diagonal observation edf -> non-convergence and wider interval ?\n",
    "* proposal std -> higher: worse mixing, shorter burn in, lower: better mixing, longer burn in\n",
    "* more samples/run: better approximation of the posterior"
   ]
  },
  {
   "cell_type": "code",
   "execution_count": null,
   "id": "959d13d9",
   "metadata": {},
   "outputs": [],
   "source": [
    "%matplotlib inline"
   ]
  },
  {
   "cell_type": "code",
   "execution_count": null,
   "id": "48ad4318",
   "metadata": {},
   "outputs": [],
   "source": [
    "import numpy as np\n",
    "import random\n",
    "import os\n",
    "import matplotlib.pyplot as plt\n",
    "import matplotlib as mpl\n",
    "import pandas as pd\n",
    "import re\n",
    "from helper.SimulationJob import SimulationJob\n",
    "from math import sqrt\n",
    "from helper.InverseProblem import InverseProblem\n",
    "from scipy.stats import ks_2samp\n",
    "import seaborn as sns\n",
    "from os import path\n",
    "import torch\n",
    "from tqdm import tqdm"
   ]
  },
  {
   "cell_type": "code",
   "execution_count": null,
   "id": "cedae648",
   "metadata": {},
   "outputs": [],
   "source": [
    "mpl.style.use(\"grayscale_adjusted.mplstyle\")"
   ]
  },
  {
   "cell_type": "markdown",
   "id": "f65e0354",
   "metadata": {},
   "source": [
    "Run experiments with inverse problem"
   ]
  },
  {
   "cell_type": "code",
   "execution_count": null,
   "id": "93391299",
   "metadata": {},
   "outputs": [],
   "source": [
    "nn_models = np.array([\"nn-in-2-out-20-hid-2-n-200-activ-tanh-regul-0.0001-2-soft-False-rng-568-data-e3513ee46f1829cd90d7e07973b5e4f1.json-resol-512-n_tr-64-opt-ADAM-ep-4000-batch-64-tr_time-12.pt\"])\n",
    "synth_datafiles = np.array([\"synth-data-lmb-1.0-m-0.0-t_horiz-200-nagents-10000.npy\",\n",
    "\"synth-data-lmb-2.0-m-0.5-t_horiz-200-nagents-10000.npy\",\n",
    "\"synth-data-lmb-1.0-m-0.1-t_horiz-200-nagents-10000.npy\",\n",
    "\"synth-data-lmb-0.5-m-0.5-t_horiz-200-nagents-10000.npy\",\n",
    "\"synth-data-lmb-0.1-m-0.1-t_horiz-200-nagents-10000.npy\",\n",
    "\"synth-data-lmb-2.0-m-0.0-t_horiz-200-nagents-10000.npy\",\n",
    "\"synth-data-lmb-1.0-m-0.5-t_horiz-200-nagents-10000.npy\",\n",
    "\"synth-data-lmb-0.5-m-0.1-t_horiz-200-nagents-10000.npy\",\n",
    "\"synth-data-lmb-0.5-m-0.0-t_horiz-200-nagents-10000.npy\",\n",
    "\"synth-data-lmb-0.1-m-0.5-t_horiz-200-nagents-10000.npy\",\n",
    "\"synth-data-lmb-0.1-m-0.0-t_horiz-200-nagents-10000.npy\",\n",
    "\"synth-data-lmb-2.0-m-0.1-t_horiz-200-nagents-10000.npy\",])\n",
    "\n",
    "synth_lmbs = [1,2,1,0.5,0.1,2,1,0.5,0.5,0.1,0.1,2]\n",
    "synth_ms = [0,0.5,0.1,0.5,0.1,0,0.5,0.1,0,0.5,0,0.1]\n",
    "\n",
    "seeds = [64,81,100,121,144]\n",
    "n_obs = [25,50,100,200]\n",
    "noises = [0.01,0.1,1]\n",
    "proposals = [0.01,0.05,0.1]"
   ]
  },
  {
   "cell_type": "markdown",
   "id": "5f8ade5f",
   "metadata": {},
   "source": [
    "for m in range(1): \n",
    "    for d in range(1):\n",
    "        for r in range(1):\n",
    "            for o in range(len(n_obs)):\n",
    "                for n in range(len(noises)):\n",
    "                    for p in range(len(proposals)):\n",
    "                        ! python experiment-16-inverse-problem-surrogate.py {synth_datafiles[d]} -tl {synth_lmbs[d]} -tm {synth_ms[d]} -o {n_obs[o]} -p {proposals[p]} -b 1000 -s 6000 -w {noises[n]} -r {seeds[r]} -loc models\\{nn_models[m]} --show"
   ]
  },
  {
   "cell_type": "code",
   "execution_count": null,
   "id": "06b44e1d",
   "metadata": {},
   "outputs": [],
   "source": [
    "#Experiment 0: All possible config for datafile 0 and seed 64\n",
    "exp0_result_files = np.array([\"experiment-16--synth-data-lmb-1.0-m-0.0-t_horiz-200-nagents-10000.npy--noise-1.0-n_observations-200-num_rounds-6000-burn_in-1000-proposal--0.1-0.1--initial_sample--1.5--0.2-nn-nn-start-27575102-seed-64.npz\",\n",
    "\"experiment-16--synth-data-lmb-1.0-m-0.0-t_horiz-200-nagents-10000.npy--noise-1.0-n_observations-200-num_rounds-6000-burn_in-1000-proposal--0.05-0.05--initial_sample--1.5--0.2-nn-nn-start-27575101-seed-64.npz\",\n",
    "\"experiment-16--synth-data-lmb-1.0-m-0.0-t_horiz-200-nagents-10000.npy--noise-1.0-n_observations-200-num_rounds-6000-burn_in-1000-proposal--0.01-0.01--initial_sample--1.5--0.2-nn-nn-start-27575101-seed-64.npz\",\n",
    "\"experiment-16--synth-data-lmb-1.0-m-0.0-t_horiz-200-nagents-10000.npy--noise-0.1-n_observations-200-num_rounds-6000-burn_in-1000-proposal--0.1-0.1--initial_sample--1.5--0.2-nn-nn-start-27575101-seed-64.npz\",\n",
    "\"experiment-16--synth-data-lmb-1.0-m-0.0-t_horiz-200-nagents-10000.npy--noise-0.1-n_observations-200-num_rounds-6000-burn_in-1000-proposal--0.05-0.05--initial_sample--1.5--0.2-nn-nn-start-27575100-seed-64.npz\",\n",
    "\"experiment-16--synth-data-lmb-1.0-m-0.0-t_horiz-200-nagents-10000.npy--noise-0.1-n_observations-200-num_rounds-6000-burn_in-1000-proposal--0.01-0.01--initial_sample--1.5--0.2-nn-nn-start-27575100-seed-64.npz\",\n",
    "\"experiment-16--synth-data-lmb-1.0-m-0.0-t_horiz-200-nagents-10000.npy--noise-0.01-n_observations-200-num_rounds-6000-burn_in-1000-proposal--0.1-0.1--initial_sample--1.5--0.2-nn-nn-start-27575100-seed-64.npz\",\n",
    "\"experiment-16--synth-data-lmb-1.0-m-0.0-t_horiz-200-nagents-10000.npy--noise-0.01-n_observations-200-num_rounds-6000-burn_in-1000-proposal--0.05-0.05--initial_sample--1.5--0.2-nn-nn-start-27575100-seed-64.npz\",\n",
    "\"experiment-16--synth-data-lmb-1.0-m-0.0-t_horiz-200-nagents-10000.npy--noise-0.01-n_observations-200-num_rounds-6000-burn_in-1000-proposal--0.01-0.01--initial_sample--1.5--0.2-nn-nn-start-27575099-seed-64.npz\",\n",
    "\"experiment-16--synth-data-lmb-1.0-m-0.0-t_horiz-200-nagents-10000.npy--noise-1.0-n_observations-100-num_rounds-6000-burn_in-1000-proposal--0.1-0.1--initial_sample--1.5--0.2-nn-nn-start-27575099-seed-64.npz\",\n",
    "\"experiment-16--synth-data-lmb-1.0-m-0.0-t_horiz-200-nagents-10000.npy--noise-1.0-n_observations-100-num_rounds-6000-burn_in-1000-proposal--0.05-0.05--initial_sample--1.5--0.2-nn-nn-start-27575099-seed-64.npz\",\n",
    "\"experiment-16--synth-data-lmb-1.0-m-0.0-t_horiz-200-nagents-10000.npy--noise-1.0-n_observations-100-num_rounds-6000-burn_in-1000-proposal--0.01-0.01--initial_sample--1.5--0.2-nn-nn-start-27575098-seed-64.npz\",\n",
    "\"experiment-16--synth-data-lmb-1.0-m-0.0-t_horiz-200-nagents-10000.npy--noise-0.1-n_observations-100-num_rounds-6000-burn_in-1000-proposal--0.1-0.1--initial_sample--1.5--0.2-nn-nn-start-27575098-seed-64.npz\",\n",
    "\"experiment-16--synth-data-lmb-1.0-m-0.0-t_horiz-200-nagents-10000.npy--noise-0.1-n_observations-100-num_rounds-6000-burn_in-1000-proposal--0.05-0.05--initial_sample--1.5--0.2-nn-nn-start-27575098-seed-64.npz\",\n",
    "\"experiment-16--synth-data-lmb-1.0-m-0.0-t_horiz-200-nagents-10000.npy--noise-0.1-n_observations-100-num_rounds-6000-burn_in-1000-proposal--0.01-0.01--initial_sample--1.5--0.2-nn-nn-start-27575097-seed-64.npz\",\n",
    "\"experiment-16--synth-data-lmb-1.0-m-0.0-t_horiz-200-nagents-10000.npy--noise-0.01-n_observations-100-num_rounds-6000-burn_in-1000-proposal--0.1-0.1--initial_sample--1.5--0.2-nn-nn-start-27575097-seed-64.npz\",\n",
    "\"experiment-16--synth-data-lmb-1.0-m-0.0-t_horiz-200-nagents-10000.npy--noise-0.01-n_observations-100-num_rounds-6000-burn_in-1000-proposal--0.05-0.05--initial_sample--1.5--0.2-nn-nn-start-27575097-seed-64.npz\",\n",
    "\"experiment-16--synth-data-lmb-1.0-m-0.0-t_horiz-200-nagents-10000.npy--noise-0.01-n_observations-100-num_rounds-6000-burn_in-1000-proposal--0.01-0.01--initial_sample--1.5--0.2-nn-nn-start-27575096-seed-64.npz\",\n",
    "\"experiment-16--synth-data-lmb-1.0-m-0.0-t_horiz-200-nagents-10000.npy--noise-1.0-n_observations-50-num_rounds-6000-burn_in-1000-proposal--0.1-0.1--initial_sample--1.5--0.2-nn-nn-start-27575096-seed-64.npz\",\n",
    "\"experiment-16--synth-data-lmb-1.0-m-0.0-t_horiz-200-nagents-10000.npy--noise-1.0-n_observations-50-num_rounds-6000-burn_in-1000-proposal--0.05-0.05--initial_sample--1.5--0.2-nn-nn-start-27575096-seed-64.npz\",\n",
    "\"experiment-16--synth-data-lmb-1.0-m-0.0-t_horiz-200-nagents-10000.npy--noise-1.0-n_observations-50-num_rounds-6000-burn_in-1000-proposal--0.01-0.01--initial_sample--1.5--0.2-nn-nn-start-27575096-seed-64.npz\",\n",
    "\"experiment-16--synth-data-lmb-1.0-m-0.0-t_horiz-200-nagents-10000.npy--noise-0.1-n_observations-50-num_rounds-6000-burn_in-1000-proposal--0.1-0.1--initial_sample--1.5--0.2-nn-nn-start-27575095-seed-64.npz\",\n",
    "\"experiment-16--synth-data-lmb-1.0-m-0.0-t_horiz-200-nagents-10000.npy--noise-0.1-n_observations-50-num_rounds-6000-burn_in-1000-proposal--0.05-0.05--initial_sample--1.5--0.2-nn-nn-start-27575095-seed-64.npz\",\n",
    "\"experiment-16--synth-data-lmb-1.0-m-0.0-t_horiz-200-nagents-10000.npy--noise-0.1-n_observations-50-num_rounds-6000-burn_in-1000-proposal--0.01-0.01--initial_sample--1.5--0.2-nn-nn-start-27575095-seed-64.npz\",\n",
    "\"experiment-16--synth-data-lmb-1.0-m-0.0-t_horiz-200-nagents-10000.npy--noise-0.01-n_observations-50-num_rounds-6000-burn_in-1000-proposal--0.1-0.1--initial_sample--1.5--0.2-nn-nn-start-27575094-seed-64.npz\",\n",
    "\"experiment-16--synth-data-lmb-1.0-m-0.0-t_horiz-200-nagents-10000.npy--noise-0.01-n_observations-50-num_rounds-6000-burn_in-1000-proposal--0.05-0.05--initial_sample--1.5--0.2-nn-nn-start-27575094-seed-64.npz\",\n",
    "\"experiment-16--synth-data-lmb-1.0-m-0.0-t_horiz-200-nagents-10000.npy--noise-0.01-n_observations-50-num_rounds-6000-burn_in-1000-proposal--0.01-0.01--initial_sample--1.5--0.2-nn-nn-start-27575094-seed-64.npz\",\n",
    "\"experiment-16--synth-data-lmb-1.0-m-0.0-t_horiz-200-nagents-10000.npy--noise-1.0-n_observations-25-num_rounds-6000-burn_in-1000-proposal--0.1-0.1--initial_sample--1.5--0.2-nn-nn-start-27575094-seed-64.npz\",\n",
    "\"experiment-16--synth-data-lmb-1.0-m-0.0-t_horiz-200-nagents-10000.npy--noise-1.0-n_observations-25-num_rounds-6000-burn_in-1000-proposal--0.05-0.05--initial_sample--1.5--0.2-nn-nn-start-27575093-seed-64.npz\",\n",
    "\"experiment-16--synth-data-lmb-1.0-m-0.0-t_horiz-200-nagents-10000.npy--noise-1.0-n_observations-25-num_rounds-6000-burn_in-1000-proposal--0.01-0.01--initial_sample--1.5--0.2-nn-nn-start-27575093-seed-64.npz\",\n",
    "\"experiment-16--synth-data-lmb-1.0-m-0.0-t_horiz-200-nagents-10000.npy--noise-0.1-n_observations-25-num_rounds-6000-burn_in-1000-proposal--0.1-0.1--initial_sample--1.5--0.2-nn-nn-start-27575093-seed-64.npz\",\n",
    "\"experiment-16--synth-data-lmb-1.0-m-0.0-t_horiz-200-nagents-10000.npy--noise-0.1-n_observations-25-num_rounds-6000-burn_in-1000-proposal--0.05-0.05--initial_sample--1.5--0.2-nn-nn-start-27575092-seed-64.npz\",\n",
    "\"experiment-16--synth-data-lmb-1.0-m-0.0-t_horiz-200-nagents-10000.npy--noise-0.1-n_observations-25-num_rounds-6000-burn_in-1000-proposal--0.01-0.01--initial_sample--1.5--0.2-nn-nn-start-27575092-seed-64.npz\",\n",
    "\"experiment-16--synth-data-lmb-1.0-m-0.0-t_horiz-200-nagents-10000.npy--noise-0.01-n_observations-25-num_rounds-6000-burn_in-1000-proposal--0.1-0.1--initial_sample--1.5--0.2-nn-nn-start-27575092-seed-64.npz\",\n",
    "\"experiment-16--synth-data-lmb-1.0-m-0.0-t_horiz-200-nagents-10000.npy--noise-0.01-n_observations-25-num_rounds-6000-burn_in-1000-proposal--0.05-0.05--initial_sample--1.5--0.2-nn-nn-start-27575091-seed-64.npz\",\n",
    "\"experiment-16--synth-data-lmb-1.0-m-0.0-t_horiz-200-nagents-10000.npy--noise-0.01-n_observations-25-num_rounds-6000-burn_in-1000-proposal--0.01-0.01--initial_sample--1.5--0.2-nn-nn-start-27575091-seed-64.npz\",\n",
    "])\n"
   ]
  },
  {
   "cell_type": "markdown",
   "id": "bbecc200",
   "metadata": {},
   "source": [
    "# Experiment 1 n obs:\n",
    "for m in range(1): \n",
    "    for d in range(len(synth_datafiles)):\n",
    "        for r in range(len(seeds)):\n",
    "            for o in [2]:\n",
    "                for n in [1,]:\n",
    "                    for p in [1,]:\n",
    "                        ! python experiment-16-inverse-problem-surrogate.py {synth_datafiles[d]} -tl {synth_lmbs[d]} -tm {synth_ms[d]} -o {n_obs[o]} -p {proposals[p]} -b 1000 -s 6000 -w {noises[n]} -r {seeds[r]} -loc models\\{nn_models[m]} --show\n"
   ]
  },
  {
   "cell_type": "code",
   "execution_count": null,
   "id": "d5fdcfbf",
   "metadata": {},
   "outputs": [],
   "source": [
    "#Experiment 1: 5 reps of one basic config for all datafiles\n",
    "exp1_result_files = np.array([\"experiment-16--synth-data-lmb-0.1-m-0.0-t_horiz-200-nagents-10000.npy--noise-0.1-n_observations-100-num_rounds-6000-burn_in-1000-proposal--0.05-0.05--initial_sample--1.5--0.2-nn-nn-start-27575137-seed-100.npz\",\n",
    "\"experiment-16--synth-data-lmb-2.0-m-0.1-t_horiz-200-nagents-10000.npy--noise-0.1-n_observations-100-num_rounds-6000-burn_in-1000-proposal--0.05-0.05--initial_sample--1.5--0.2-nn-nn-start-27575141-seed-144.npz\",\n",
    "\"experiment-16--synth-data-lmb-2.0-m-0.1-t_horiz-200-nagents-10000.npy--noise-0.1-n_observations-100-num_rounds-6000-burn_in-1000-proposal--0.05-0.05--initial_sample--1.5--0.2-nn-nn-start-27575140-seed-121.npz\",\n",
    "\"experiment-16--synth-data-lmb-2.0-m-0.1-t_horiz-200-nagents-10000.npy--noise-0.1-n_observations-100-num_rounds-6000-burn_in-1000-proposal--0.05-0.05--initial_sample--1.5--0.2-nn-nn-start-27575140-seed-100.npz\",\n",
    "\"experiment-16--synth-data-lmb-2.0-m-0.1-t_horiz-200-nagents-10000.npy--noise-0.1-n_observations-100-num_rounds-6000-burn_in-1000-proposal--0.05-0.05--initial_sample--1.5--0.2-nn-nn-start-27575140-seed-81.npz\",\n",
    "\"experiment-16--synth-data-lmb-2.0-m-0.1-t_horiz-200-nagents-10000.npy--noise-0.1-n_observations-100-num_rounds-6000-burn_in-1000-proposal--0.05-0.05--initial_sample--1.5--0.2-nn-nn-start-27575139-seed-64.npz\",\n",
    "\"experiment-16--synth-data-lmb-0.1-m-0.0-t_horiz-200-nagents-10000.npy--noise-0.1-n_observations-100-num_rounds-6000-burn_in-1000-proposal--0.05-0.05--initial_sample--1.5--0.2-nn-nn-start-27575139-seed-144.npz\",\n",
    "\"experiment-16--synth-data-lmb-0.1-m-0.0-t_horiz-200-nagents-10000.npy--noise-0.1-n_observations-100-num_rounds-6000-burn_in-1000-proposal--0.05-0.05--initial_sample--1.5--0.2-nn-nn-start-27575138-seed-121.npz\",\n",
    "\"experiment-16--synth-data-lmb-0.1-m-0.0-t_horiz-200-nagents-10000.npy--noise-0.1-n_observations-100-num_rounds-6000-burn_in-1000-proposal--0.05-0.05--initial_sample--1.5--0.2-nn-nn-start-27575137-seed-81.npz\",\n",
    "\"experiment-16--synth-data-lmb-0.1-m-0.0-t_horiz-200-nagents-10000.npy--noise-0.1-n_observations-100-num_rounds-6000-burn_in-1000-proposal--0.05-0.05--initial_sample--1.5--0.2-nn-nn-start-27575136-seed-64.npz\",\n",
    "\"experiment-16--synth-data-lmb-0.1-m-0.5-t_horiz-200-nagents-10000.npy--noise-0.1-n_observations-100-num_rounds-6000-burn_in-1000-proposal--0.05-0.05--initial_sample--1.5--0.2-nn-nn-start-27575136-seed-144.npz\",\n",
    "\"experiment-16--synth-data-lmb-0.1-m-0.5-t_horiz-200-nagents-10000.npy--noise-0.1-n_observations-100-num_rounds-6000-burn_in-1000-proposal--0.05-0.05--initial_sample--1.5--0.2-nn-nn-start-27575136-seed-121.npz\",\n",
    "\"experiment-16--synth-data-lmb-0.1-m-0.5-t_horiz-200-nagents-10000.npy--noise-0.1-n_observations-100-num_rounds-6000-burn_in-1000-proposal--0.05-0.05--initial_sample--1.5--0.2-nn-nn-start-27575135-seed-100.npz\",\n",
    "\"experiment-16--synth-data-lmb-0.1-m-0.5-t_horiz-200-nagents-10000.npy--noise-0.1-n_observations-100-num_rounds-6000-burn_in-1000-proposal--0.05-0.05--initial_sample--1.5--0.2-nn-nn-start-27575135-seed-81.npz\",\n",
    "\"experiment-16--synth-data-lmb-0.1-m-0.5-t_horiz-200-nagents-10000.npy--noise-0.1-n_observations-100-num_rounds-6000-burn_in-1000-proposal--0.05-0.05--initial_sample--1.5--0.2-nn-nn-start-27575135-seed-64.npz\",\n",
    "\"experiment-16--synth-data-lmb-0.5-m-0.0-t_horiz-200-nagents-10000.npy--noise-0.1-n_observations-100-num_rounds-6000-burn_in-1000-proposal--0.05-0.05--initial_sample--1.5--0.2-nn-nn-start-27575134-seed-144.npz\",\n",
    "\"experiment-16--synth-data-lmb-0.5-m-0.0-t_horiz-200-nagents-10000.npy--noise-0.1-n_observations-100-num_rounds-6000-burn_in-1000-proposal--0.05-0.05--initial_sample--1.5--0.2-nn-nn-start-27575134-seed-121.npz\",\n",
    "\"experiment-16--synth-data-lmb-0.5-m-0.0-t_horiz-200-nagents-10000.npy--noise-0.1-n_observations-100-num_rounds-6000-burn_in-1000-proposal--0.05-0.05--initial_sample--1.5--0.2-nn-nn-start-27575134-seed-100.npz\",\n",
    "\"experiment-16--synth-data-lmb-0.5-m-0.0-t_horiz-200-nagents-10000.npy--noise-0.1-n_observations-100-num_rounds-6000-burn_in-1000-proposal--0.05-0.05--initial_sample--1.5--0.2-nn-nn-start-27575133-seed-81.npz\",\n",
    "\"experiment-16--synth-data-lmb-0.5-m-0.0-t_horiz-200-nagents-10000.npy--noise-0.1-n_observations-100-num_rounds-6000-burn_in-1000-proposal--0.05-0.05--initial_sample--1.5--0.2-nn-nn-start-27575133-seed-64.npz\",\n",
    "\"experiment-16--synth-data-lmb-0.5-m-0.1-t_horiz-200-nagents-10000.npy--noise-0.1-n_observations-100-num_rounds-6000-burn_in-1000-proposal--0.05-0.05--initial_sample--1.5--0.2-nn-nn-start-27575133-seed-144.npz\",\n",
    "\"experiment-16--synth-data-lmb-0.5-m-0.1-t_horiz-200-nagents-10000.npy--noise-0.1-n_observations-100-num_rounds-6000-burn_in-1000-proposal--0.05-0.05--initial_sample--1.5--0.2-nn-nn-start-27575132-seed-121.npz\",\n",
    "\"experiment-16--synth-data-lmb-0.5-m-0.1-t_horiz-200-nagents-10000.npy--noise-0.1-n_observations-100-num_rounds-6000-burn_in-1000-proposal--0.05-0.05--initial_sample--1.5--0.2-nn-nn-start-27575132-seed-100.npz\",\n",
    "\"experiment-16--synth-data-lmb-0.5-m-0.1-t_horiz-200-nagents-10000.npy--noise-0.1-n_observations-100-num_rounds-6000-burn_in-1000-proposal--0.05-0.05--initial_sample--1.5--0.2-nn-nn-start-27575132-seed-81.npz\",\n",
    "\"experiment-16--synth-data-lmb-0.5-m-0.1-t_horiz-200-nagents-10000.npy--noise-0.1-n_observations-100-num_rounds-6000-burn_in-1000-proposal--0.05-0.05--initial_sample--1.5--0.2-nn-nn-start-27575131-seed-64.npz\",\n",
    "\"experiment-16--synth-data-lmb-1.0-m-0.5-t_horiz-200-nagents-10000.npy--noise-0.1-n_observations-100-num_rounds-6000-burn_in-1000-proposal--0.05-0.05--initial_sample--1.5--0.2-nn-nn-start-27575131-seed-144.npz\",\n",
    "\"experiment-16--synth-data-lmb-1.0-m-0.5-t_horiz-200-nagents-10000.npy--noise-0.1-n_observations-100-num_rounds-6000-burn_in-1000-proposal--0.05-0.05--initial_sample--1.5--0.2-nn-nn-start-27575131-seed-121.npz\",\n",
    "\"experiment-16--synth-data-lmb-1.0-m-0.5-t_horiz-200-nagents-10000.npy--noise-0.1-n_observations-100-num_rounds-6000-burn_in-1000-proposal--0.05-0.05--initial_sample--1.5--0.2-nn-nn-start-27575130-seed-100.npz\",\n",
    "\"experiment-16--synth-data-lmb-1.0-m-0.5-t_horiz-200-nagents-10000.npy--noise-0.1-n_observations-100-num_rounds-6000-burn_in-1000-proposal--0.05-0.05--initial_sample--1.5--0.2-nn-nn-start-27575130-seed-81.npz\",\n",
    "\"experiment-16--synth-data-lmb-1.0-m-0.5-t_horiz-200-nagents-10000.npy--noise-0.1-n_observations-100-num_rounds-6000-burn_in-1000-proposal--0.05-0.05--initial_sample--1.5--0.2-nn-nn-start-27575130-seed-64.npz\",\n",
    "\"experiment-16--synth-data-lmb-2.0-m-0.0-t_horiz-200-nagents-10000.npy--noise-0.1-n_observations-100-num_rounds-6000-burn_in-1000-proposal--0.05-0.05--initial_sample--1.5--0.2-nn-nn-start-27575129-seed-144.npz\",\n",
    "\"experiment-16--synth-data-lmb-2.0-m-0.0-t_horiz-200-nagents-10000.npy--noise-0.1-n_observations-100-num_rounds-6000-burn_in-1000-proposal--0.05-0.05--initial_sample--1.5--0.2-nn-nn-start-27575129-seed-121.npz\",\n",
    "\"experiment-16--synth-data-lmb-2.0-m-0.0-t_horiz-200-nagents-10000.npy--noise-0.1-n_observations-100-num_rounds-6000-burn_in-1000-proposal--0.05-0.05--initial_sample--1.5--0.2-nn-nn-start-27575129-seed-100.npz\",\n",
    "\"experiment-16--synth-data-lmb-2.0-m-0.0-t_horiz-200-nagents-10000.npy--noise-0.1-n_observations-100-num_rounds-6000-burn_in-1000-proposal--0.05-0.05--initial_sample--1.5--0.2-nn-nn-start-27575128-seed-81.npz\",\n",
    "\"experiment-16--synth-data-lmb-2.0-m-0.0-t_horiz-200-nagents-10000.npy--noise-0.1-n_observations-100-num_rounds-6000-burn_in-1000-proposal--0.05-0.05--initial_sample--1.5--0.2-nn-nn-start-27575128-seed-64.npz\",\n",
    "\"experiment-16--synth-data-lmb-0.1-m-0.1-t_horiz-200-nagents-10000.npy--noise-0.1-n_observations-100-num_rounds-6000-burn_in-1000-proposal--0.05-0.05--initial_sample--1.5--0.2-nn-nn-start-27575128-seed-144.npz\",\n",
    "\"experiment-16--synth-data-lmb-0.1-m-0.1-t_horiz-200-nagents-10000.npy--noise-0.1-n_observations-100-num_rounds-6000-burn_in-1000-proposal--0.05-0.05--initial_sample--1.5--0.2-nn-nn-start-27575128-seed-121.npz\",\n",
    "\"experiment-16--synth-data-lmb-0.1-m-0.1-t_horiz-200-nagents-10000.npy--noise-0.1-n_observations-100-num_rounds-6000-burn_in-1000-proposal--0.05-0.05--initial_sample--1.5--0.2-nn-nn-start-27575127-seed-100.npz\",\n",
    "\"experiment-16--synth-data-lmb-0.1-m-0.1-t_horiz-200-nagents-10000.npy--noise-0.1-n_observations-100-num_rounds-6000-burn_in-1000-proposal--0.05-0.05--initial_sample--1.5--0.2-nn-nn-start-27575127-seed-81.npz\",\n",
    "\"experiment-16--synth-data-lmb-0.1-m-0.1-t_horiz-200-nagents-10000.npy--noise-0.1-n_observations-100-num_rounds-6000-burn_in-1000-proposal--0.05-0.05--initial_sample--1.5--0.2-nn-nn-start-27575126-seed-64.npz\",\n",
    "\"experiment-16--synth-data-lmb-0.5-m-0.5-t_horiz-200-nagents-10000.npy--noise-0.1-n_observations-100-num_rounds-6000-burn_in-1000-proposal--0.05-0.05--initial_sample--1.5--0.2-nn-nn-start-27575126-seed-144.npz\",\n",
    "\"experiment-16--synth-data-lmb-0.5-m-0.5-t_horiz-200-nagents-10000.npy--noise-0.1-n_observations-100-num_rounds-6000-burn_in-1000-proposal--0.05-0.05--initial_sample--1.5--0.2-nn-nn-start-27575125-seed-121.npz\",\n",
    "\"experiment-16--synth-data-lmb-0.5-m-0.5-t_horiz-200-nagents-10000.npy--noise-0.1-n_observations-100-num_rounds-6000-burn_in-1000-proposal--0.05-0.05--initial_sample--1.5--0.2-nn-nn-start-27575125-seed-100.npz\",\n",
    "\"experiment-16--synth-data-lmb-0.5-m-0.5-t_horiz-200-nagents-10000.npy--noise-0.1-n_observations-100-num_rounds-6000-burn_in-1000-proposal--0.05-0.05--initial_sample--1.5--0.2-nn-nn-start-27575124-seed-81.npz\",\n",
    "\"experiment-16--synth-data-lmb-0.5-m-0.5-t_horiz-200-nagents-10000.npy--noise-0.1-n_observations-100-num_rounds-6000-burn_in-1000-proposal--0.05-0.05--initial_sample--1.5--0.2-nn-nn-start-27575124-seed-64.npz\",\n",
    "\"experiment-16--synth-data-lmb-1.0-m-0.1-t_horiz-200-nagents-10000.npy--noise-0.1-n_observations-100-num_rounds-6000-burn_in-1000-proposal--0.05-0.05--initial_sample--1.5--0.2-nn-nn-start-27575124-seed-144.npz\",\n",
    "\"experiment-16--synth-data-lmb-1.0-m-0.1-t_horiz-200-nagents-10000.npy--noise-0.1-n_observations-100-num_rounds-6000-burn_in-1000-proposal--0.05-0.05--initial_sample--1.5--0.2-nn-nn-start-27575123-seed-121.npz\",\n",
    "\"experiment-16--synth-data-lmb-1.0-m-0.1-t_horiz-200-nagents-10000.npy--noise-0.1-n_observations-100-num_rounds-6000-burn_in-1000-proposal--0.05-0.05--initial_sample--1.5--0.2-nn-nn-start-27575123-seed-100.npz\",\n",
    "\"experiment-16--synth-data-lmb-1.0-m-0.1-t_horiz-200-nagents-10000.npy--noise-0.1-n_observations-100-num_rounds-6000-burn_in-1000-proposal--0.05-0.05--initial_sample--1.5--0.2-nn-nn-start-27575123-seed-81.npz\",\n",
    "\"experiment-16--synth-data-lmb-1.0-m-0.1-t_horiz-200-nagents-10000.npy--noise-0.1-n_observations-100-num_rounds-6000-burn_in-1000-proposal--0.05-0.05--initial_sample--1.5--0.2-nn-nn-start-27575123-seed-64.npz\",\n",
    "\"experiment-16--synth-data-lmb-2.0-m-0.5-t_horiz-200-nagents-10000.npy--noise-0.1-n_observations-100-num_rounds-6000-burn_in-1000-proposal--0.05-0.05--initial_sample--1.5--0.2-nn-nn-start-27575122-seed-144.npz\",\n",
    "\"experiment-16--synth-data-lmb-2.0-m-0.5-t_horiz-200-nagents-10000.npy--noise-0.1-n_observations-100-num_rounds-6000-burn_in-1000-proposal--0.05-0.05--initial_sample--1.5--0.2-nn-nn-start-27575122-seed-121.npz\",\n",
    "\"experiment-16--synth-data-lmb-2.0-m-0.5-t_horiz-200-nagents-10000.npy--noise-0.1-n_observations-100-num_rounds-6000-burn_in-1000-proposal--0.05-0.05--initial_sample--1.5--0.2-nn-nn-start-27575122-seed-100.npz\",\n",
    "\"experiment-16--synth-data-lmb-2.0-m-0.5-t_horiz-200-nagents-10000.npy--noise-0.1-n_observations-100-num_rounds-6000-burn_in-1000-proposal--0.05-0.05--initial_sample--1.5--0.2-nn-nn-start-27575121-seed-81.npz\",\n",
    "\"experiment-16--synth-data-lmb-2.0-m-0.5-t_horiz-200-nagents-10000.npy--noise-0.1-n_observations-100-num_rounds-6000-burn_in-1000-proposal--0.05-0.05--initial_sample--1.5--0.2-nn-nn-start-27575121-seed-64.npz\",\n",
    "\"experiment-16--synth-data-lmb-1.0-m-0.0-t_horiz-200-nagents-10000.npy--noise-0.1-n_observations-100-num_rounds-6000-burn_in-1000-proposal--0.05-0.05--initial_sample--1.5--0.2-nn-nn-start-27575121-seed-144.npz\",\n",
    "\"experiment-16--synth-data-lmb-1.0-m-0.0-t_horiz-200-nagents-10000.npy--noise-0.1-n_observations-100-num_rounds-6000-burn_in-1000-proposal--0.05-0.05--initial_sample--1.5--0.2-nn-nn-start-27575120-seed-121.npz\",\n",
    "\"experiment-16--synth-data-lmb-1.0-m-0.0-t_horiz-200-nagents-10000.npy--noise-0.1-n_observations-100-num_rounds-6000-burn_in-1000-proposal--0.05-0.05--initial_sample--1.5--0.2-nn-nn-start-27575120-seed-100.npz\",\n",
    "\"experiment-16--synth-data-lmb-1.0-m-0.0-t_horiz-200-nagents-10000.npy--noise-0.1-n_observations-100-num_rounds-6000-burn_in-1000-proposal--0.05-0.05--initial_sample--1.5--0.2-nn-nn-start-27575120-seed-81.npz\",\n",
    "\"experiment-16--synth-data-lmb-1.0-m-0.0-t_horiz-200-nagents-10000.npy--noise-0.1-n_observations-100-num_rounds-6000-burn_in-1000-proposal--0.05-0.05--initial_sample--1.5--0.2-nn-nn-start-27575119-seed-64.npz\",\n",
    "                             ])"
   ]
  },
  {
   "cell_type": "code",
   "execution_count": null,
   "id": "232b253c",
   "metadata": {},
   "outputs": [],
   "source": []
  },
  {
   "cell_type": "code",
   "execution_count": null,
   "id": "c159b178",
   "metadata": {},
   "outputs": [],
   "source": [
    "dirname = path.abspath(\"experiment-data\\\\\")\n",
    "datafiles = exp1_result_files\n",
    "files_to_load = range(0,len(datafiles))\n",
    "# files_to_load = range(0,20)\n",
    "paths = [path.join(dirname,datafiles[i]) for i in files_to_load]\n",
    "paths"
   ]
  },
  {
   "cell_type": "code",
   "execution_count": null,
   "id": "8e8962dc",
   "metadata": {},
   "outputs": [],
   "source": [
    "print(len(datafiles))"
   ]
  },
  {
   "cell_type": "code",
   "execution_count": null,
   "id": "29f6bf78",
   "metadata": {},
   "outputs": [],
   "source": [
    "all_data = [np.load(p) for p in paths]"
   ]
  },
  {
   "cell_type": "code",
   "execution_count": null,
   "id": "811148b0",
   "metadata": {},
   "outputs": [],
   "source": [
    "in_research = 50\n",
    "name = datafiles[in_research]\n",
    "data = all_data[in_research]\n",
    "name"
   ]
  },
  {
   "cell_type": "markdown",
   "id": "e0234828",
   "metadata": {},
   "source": [
    "experiment-16--synth-data-lmb-1-m-0-t_horiz-200-nagents-100000.npy--noise-0.05-n_observations-100-num_rounds-3000-burn_in-1000-proposal--0.05-0.05--initial_sample--1.5--0.2-nn-nn-start-27575052-seed-3324582059.npz\n",
    "experiment-16--synth-data-lmb-1-m-0-t_horiz-200-nagents-100000.npy--noise-0.05-n_observations-100-num_rounds-3000-burn_in-1000-proposal--0.05-0.05--initial_sample--1.5--0.2-nn-nn-start-27574367-seed-1248087043.npz\n",
    "experiment-16--synth-data-lmb-1-m-0-t_horiz-200-nagents-100000.npy--noise-0.05-n_observations-100-num_rounds-3000-burn_in-1000-proposal--0.05-0.05--initial_sample--1.5--0.2-nn-nn-start-27574365-seed-230193769.npz\n",
    "experiment-16--synth-data-lmb-1-m-0-t_horiz-200-nagents-100000.npy--noise-0.05-n_observations-1000-num_rounds-3000-burn_in-1000-proposal--0.05-0.05--initial_sample--1.5--0.2-nn-nn-start-27574364-seed-3357578862.npz\n"
   ]
  },
  {
   "cell_type": "markdown",
   "id": "307a8021",
   "metadata": {},
   "source": [
    "name = \"experiment-16--synth-data-lmb-1-m-0-t_horiz-200-nagents-100000.npy--noise-0.05-n_observations-100-num_rounds-3000-burn_in-1000-proposal--0.05-0.05--initial_sample--1.5--0.2-nn-nn-start-27574365-seed-230193769.npz\"\n",
    "datafile = path.join(dirname,name)\n",
    "data = np.load(datafile)\n"
   ]
  },
  {
   "cell_type": "code",
   "execution_count": null,
   "id": "d99a7092",
   "metadata": {},
   "outputs": [],
   "source": [
    "x = re.search(\"(?<=--)(.*?)(?=--)\", name)\n",
    "synth_data_name = x.group()\n",
    "print(synth_data_name)\n",
    "#y = re.findall(\"(?<=-)(.*?)(?=[-/.])\",synth_data_name)\n",
    "#print(y)"
   ]
  },
  {
   "cell_type": "code",
   "execution_count": null,
   "id": "9526751b",
   "metadata": {},
   "outputs": [],
   "source": [
    "data"
   ]
  },
  {
   "cell_type": "code",
   "execution_count": null,
   "id": "49fc1a50",
   "metadata": {},
   "outputs": [],
   "source": [
    "df = pd.DataFrame.from_dict(dict(data),orient='columns')"
   ]
  },
  {
   "cell_type": "code",
   "execution_count": null,
   "id": "20755b6a",
   "metadata": {},
   "outputs": [],
   "source": [
    "df\n",
    "burnin = 1000\n",
    "df_postburn = df.loc[burnin:,:]\n",
    "df_postburn"
   ]
  },
  {
   "cell_type": "code",
   "execution_count": null,
   "id": "2d1bc00c",
   "metadata": {},
   "outputs": [],
   "source": [
    "plt.figure(1)\n",
    "plt.subplot(211)\n",
    "#plt.scatter(df.index,df['lmb'],marker='x')\n",
    "plt.plot(df.index,df['lmb'])\n",
    "plt.ylabel(\"lmb\")\n",
    "plt.subplot(212)\n",
    "plt.plot(df.index,df['m'])\n",
    "plt.ylabel(\"m\")\n",
    "plt.show()\n"
   ]
  },
  {
   "cell_type": "code",
   "execution_count": null,
   "id": "81edc37f",
   "metadata": {},
   "outputs": [],
   "source": [
    "# from IPython.display import Image\n",
    "# Image(filename=f\"\"\"experiment-data\\\\inverse-validation-exp5~multiple\\\\hist-from--{name}-.png\"\"\")"
   ]
  },
  {
   "cell_type": "code",
   "execution_count": null,
   "id": "b071b78f",
   "metadata": {},
   "outputs": [],
   "source": [
    "fig, axs = plt.subplots(1, 2, sharey=True, tight_layout=True)\n",
    "lmb_count, lmb_x, _ = axs[0].hist(df_postburn.loc[:,'lmb'],bins=200)\n",
    "m_count, m_x, _ = axs[1].hist(df_postburn.loc[:,'m'],bins=200)\n",
    "axs[0].set_ylabel(\"count\")\n",
    "axs[0].set_xlabel(\"lambda\")\n",
    "axs[1].set_xlabel(\"mean opinion\")\n",
    "plt.show()"
   ]
  },
  {
   "cell_type": "code",
   "execution_count": null,
   "id": "a0c180d2",
   "metadata": {},
   "outputs": [],
   "source": [
    "m_MAP = float(m_x[np.argmax(m_count)])\n",
    "lmb_MAP = float(lmb_x[np.argmax(lmb_count)])\n",
    "print(m_MAP,lmb_MAP)\n",
    "MAP = dict(m=m_MAP,lmb=lmb_MAP)"
   ]
  },
  {
   "cell_type": "code",
   "execution_count": null,
   "id": "006e27e5",
   "metadata": {},
   "outputs": [],
   "source": [
    "plt.figure()\n",
    "plt.hist2d(df_postburn.loc[:,'lmb'],df_postburn.loc[:,'m'],density=True)\n",
    "plt.show()"
   ]
  },
  {
   "cell_type": "code",
   "execution_count": null,
   "id": "bfb304c9",
   "metadata": {},
   "outputs": [],
   "source": [
    "sns.pairplot(df_postburn,kind='hist')\n",
    "plt.show()"
   ]
  },
  {
   "cell_type": "code",
   "execution_count": null,
   "id": "380b22f7",
   "metadata": {},
   "outputs": [],
   "source": [
    "synth_data_path = f\"\"\"experiment-data\\\\{synth_data_name}\"\"\"\n",
    "synth = np.load(synth_data_path)\n",
    "s_df = pd.DataFrame(synth,columns = [\"w\"])\n",
    "s_df"
   ]
  },
  {
   "cell_type": "code",
   "execution_count": null,
   "id": "bfff8265",
   "metadata": {},
   "outputs": [],
   "source": [
    "plt.figure(1)\n",
    "plt.hist(s_df[\"w\"],bins=200)\n",
    "plt.show()"
   ]
  },
  {
   "cell_type": "code",
   "execution_count": null,
   "id": "3c23730a",
   "metadata": {},
   "outputs": [],
   "source": [
    "def generate_invariant(lmb,m):\n",
    "    gamma = 0.01\n",
    "    theta_std = sqrt(gamma * lmb)\n",
    "    assert gamma > 0\n",
    "    experiment_assumptions = dict(\n",
    "        free_parameters={\"lmb\", \"m\"},\n",
    "        theta_bound=lambda g, w: (1 - g) / (1 + abs(w)),\n",
    "        gamma=gamma,\n",
    "        lmb_bound=(1 / (3 * gamma) - 2 / 3 + gamma / 3),\n",
    "        p=lambda w: 1,\n",
    "        d=lambda w: (1 - w ** 2),\n",
    "        t_horiz=200,\n",
    "        nagents=10000,\n",
    "    )\n",
    "\n",
    "    t_horiz = experiment_assumptions[\"t_horiz\"]\n",
    "    nagents = experiment_assumptions[\"nagents\"]\n",
    "\n",
    "    # create synthetic data\n",
    "    job = SimulationJob(\n",
    "        gamma,\n",
    "        theta_std,\n",
    "        experiment_assumptions[\"theta_bound\"],\n",
    "        experiment_assumptions[\"p\"],\n",
    "        experiment_assumptions[\"d\"],\n",
    "        m,\n",
    "        t_horiz,\n",
    "        nagents,\n",
    "        True,\n",
    "    )\n",
    "\n",
    "    job.run()\n",
    "    return job.result"
   ]
  },
  {
   "cell_type": "code",
   "execution_count": null,
   "id": "6243bf16",
   "metadata": {},
   "outputs": [],
   "source": [
    "str(data[\"nn\"])"
   ]
  },
  {
   "cell_type": "code",
   "execution_count": null,
   "id": "9d9159bc",
   "metadata": {},
   "outputs": [],
   "source": [
    "model = torch.load(str(data[\"nn\"]))"
   ]
  },
  {
   "cell_type": "code",
   "execution_count": null,
   "id": "fa62f32f",
   "metadata": {},
   "outputs": [],
   "source": [
    "for combo in [MAP,]:\n",
    "    combo[\"w\"] = generate_invariant(combo[\"lmb\"],combo[\"m\"])\n",
    "    transform_input = lambda x: (x - torch.Tensor([6, 0])) / torch.Tensor([12, 2])\n",
    "    combo[\"nn_pred\"] = model(transform_input(torch.tensor([combo[\"lmb\"],combo[\"m\"]]))).detach()"
   ]
  },
  {
   "cell_type": "code",
   "execution_count": null,
   "id": "526318bf",
   "metadata": {},
   "outputs": [],
   "source": [
    "post_samples = torch.tensor(df_postburn.loc[:,[\"lmb\",\"m\"]].sample(1000, axis=0).to_numpy(),dtype=torch.float32)\n",
    "post_samples\n",
    "preds = np.transpose(model(transform_input(post_samples)).detach())\n",
    "mean_pred = torch.mean(preds,axis=0)"
   ]
  },
  {
   "cell_type": "code",
   "execution_count": null,
   "id": "1dd9fb59",
   "metadata": {},
   "outputs": [],
   "source": [
    "h = np.array(2 /len(MAP[\"nn_pred\"]))\n",
    "centers = [-1 + h / 2 + i * h for i in range(len(MAP[\"nn_pred\"]))]\n",
    "preds_norm = preds/h\n",
    "print(preds.shape)\n",
    "preds_norm.shape\n"
   ]
  },
  {
   "cell_type": "code",
   "execution_count": null,
   "id": "c1baaa4f",
   "metadata": {},
   "outputs": [],
   "source": [
    "plt.figure(4)\n",
    "plt.hist(s_df[\"w\"],bins=200,histtype = 'step',label=\"true population\",density=True)\n",
    "plt.hist(MAP[\"w\"],bins=200,histtype='step',label=\"MAP estimate - simulation\",density=True)\n",
    "\n",
    "plt.plot(centers,MAP[\"nn_pred\"]/h, label=\"MAP estimate - nn\")\n",
    "assert preds_norm.shape[0] == len(centers)\n",
    "# plt.boxplot(preds_norm[1:-1,:],positions=centers[1:-1],vert=True)\n",
    "plt.legend(loc='upper right',bbox_to_anchor =(1.4,1))\n",
    "plt.show()\n"
   ]
  },
  {
   "cell_type": "code",
   "execution_count": null,
   "id": "2ee98473",
   "metadata": {},
   "outputs": [],
   "source": [
    "plt.boxplot(preds/h,positions=centers)"
   ]
  },
  {
   "cell_type": "markdown",
   "id": "e2e2821b",
   "metadata": {},
   "source": [
    "### Zoom in "
   ]
  },
  {
   "cell_type": "code",
   "execution_count": null,
   "id": "8fad6ab8",
   "metadata": {},
   "outputs": [],
   "source": [
    "start_index = 1600\n",
    "end_index = 1700"
   ]
  },
  {
   "cell_type": "code",
   "execution_count": null,
   "id": "b0d6f22a",
   "metadata": {},
   "outputs": [],
   "source": [
    "df_zoom = df.loc[start_index:end_index,:]\n",
    "plt.figure(2)\n",
    "plt.subplot(211)\n",
    "plt.scatter(df_zoom.index,df_zoom.loc[:,'lmb'])\n",
    "plt.subplot(212)\n",
    "plt.scatter(df_zoom.index,df_zoom.loc[:,'m'])"
   ]
  },
  {
   "cell_type": "markdown",
   "id": "1c2ecc6c",
   "metadata": {},
   "source": [
    "### Comparison synthetic population vs synthetic sample"
   ]
  },
  {
   "cell_type": "code",
   "execution_count": null,
   "id": "bcdf6d42",
   "metadata": {},
   "outputs": [],
   "source": [
    "def generate_synth_sample(synth_population,n_observations,noise_std,seed=None):\n",
    "    if seed is None:\n",
    "        seed = random.randint(1, 2**32 - 1)\n",
    "    else:\n",
    "        seed = seed\n",
    "\n",
    "    random.seed(seed)\n",
    "    np.random.seed(seed)\n",
    "    observed_data = synth_population[0:n_observations]\n",
    "    # add noise\n",
    "    noise_std = noise_std\n",
    "    noisy_observed_data = InverseProblem.add_noise(observed_data, noise_std)\n",
    "    return noisy_observed_data"
   ]
  },
  {
   "cell_type": "code",
   "execution_count": null,
   "id": "39124aeb",
   "metadata": {},
   "outputs": [],
   "source": [
    "name"
   ]
  },
  {
   "cell_type": "code",
   "execution_count": null,
   "id": "0f38fafd",
   "metadata": {},
   "outputs": [],
   "source": [
    "seed = int(re.search(\"(?<=seed-)(.*?)(?=[.])\",name).group())\n",
    "noise = float(re.search(\"(?<=noise-)(.*?)(?=[-])\",name).group())\n",
    "n_observations = int(re.search(\"(?<=n_observations-)(.*?)(?=[-])\",name).group())"
   ]
  },
  {
   "cell_type": "code",
   "execution_count": null,
   "id": "07577413",
   "metadata": {},
   "outputs": [],
   "source": [
    "print(seed,noise,n_observations)"
   ]
  },
  {
   "cell_type": "code",
   "execution_count": null,
   "id": "6b35d1b5",
   "metadata": {},
   "outputs": [],
   "source": [
    "synth_sample = generate_synth_sample(synth,n_observations,noise,seed)\n",
    "np.mean(synth)"
   ]
  },
  {
   "cell_type": "code",
   "execution_count": null,
   "id": "9b681e1a",
   "metadata": {},
   "outputs": [],
   "source": [
    "plt.figure(5)\n",
    "plt.hist(synth_sample,200)\n",
    "plt.show()"
   ]
  },
  {
   "cell_type": "code",
   "execution_count": null,
   "id": "b94e3c86",
   "metadata": {},
   "outputs": [],
   "source": [
    "def cdf(x,hist):\n",
    "    hist_arr = np.array(hist)\n",
    "    cum_hist_arr = hist_arr.cumsum()\n",
    "    n_bins = len(hist_arr)\n",
    "    bin_width = 2 / n_bins\n",
    "    x_bin = np.floor_divide(x + 1, bin_width).astype(int)\n",
    "    cdf_vals = cum_hist_arr[x_bin]\n",
    "    return cdf_vals"
   ]
  },
  {
   "cell_type": "code",
   "execution_count": null,
   "id": "54b42e6d",
   "metadata": {},
   "outputs": [],
   "source": [
    "def acceptreject(n):\n",
    "    tries = 0\n",
    "    s = []\n",
    "    for i in tqdm(range(n)):\n",
    "        u = np.random.rand(2)\n",
    "        tries += 1\n",
    "        while u[0] > cdf(u[1]*2-1,MAP[\"nn_pred\"]):\n",
    "            u = np.random.rand(2)\n",
    "            tries += 1\n",
    "        s.append(u[1]*2-1)\n",
    "        i += 1\n",
    "    print(tries)\n",
    "    return s\n",
    "        "
   ]
  },
  {
   "cell_type": "code",
   "execution_count": null,
   "id": "fcaeb16b",
   "metadata": {},
   "outputs": [],
   "source": [
    "n = acceptreject(100000)\n",
    "plt.figure()\n",
    "plt.hist(n,histtype='step',cumulative=True,density=True,label=\"accept reject\",bins=20)\n",
    "plt.plot(np.linspace(-1,1,300),cdf(np.linspace(-1,1,300),MAP[\"nn_pred\"]),label=\"nn pred cdf\")\n",
    "plt.legend()"
   ]
  },
  {
   "cell_type": "code",
   "execution_count": null,
   "id": "cd1abc5f",
   "metadata": {},
   "outputs": [],
   "source": [
    "max(s_df[\"w\"])"
   ]
  },
  {
   "cell_type": "code",
   "execution_count": null,
   "id": "a16f6b28",
   "metadata": {},
   "outputs": [],
   "source": [
    "plt.figure(6,figsize=(12,8))\n",
    "plt.hist(s_df[\"w\"],histtype='step',bins=200,label=\"true population\",cumulative=True,density=True)\n",
    "plt.hist(synth_sample,histtype = 'step',bins=200,cumulative=True,density=True,label=\"observed sample\")\n",
    "plt.hist(MAP[\"w\"],bins=200,histtype='step',label=\"MAP estimate - simulation\",cumulative=True,density=True)\n",
    "plt.plot(np.linspace(-1,1,300),cdf(np.linspace(-1,1,300),MAP[\"nn_pred\"]), label=\"MAP estimate - nn\")\n",
    "plt.legend()\n",
    "plt.show()"
   ]
  },
  {
   "cell_type": "code",
   "execution_count": null,
   "id": "ad01bcf7",
   "metadata": {},
   "outputs": [],
   "source": [
    "ks_dist_MAP_sim = ks_2samp(MAP[\"w\"],synth_sample)\n",
    "ks_dist_synth = ks_2samp(s_df[\"w\"],synth_sample)\n",
    "# ks_dist_MAP_nn = ks_2samp(n,synth_sample)\n",
    "# display(pd.DataFrame(index=[\"MAP estimate - sim\",\"MAP estimate - nn\",\"true population\"],data = [ks_dist_MAP_sim.pvalue,ks_dist_MAP_nn.pvalue,ks_dist_synth.pvalue],columns = [\"p-value\"]))\n",
    "display(pd.DataFrame(index=[\"MAP\",\"synth data\"],data = [ks_dist_MAP.pvalue,ks_dist_synth.pvalue],columns = [\"p-value\"]))"
   ]
  },
  {
   "cell_type": "code",
   "execution_count": null,
   "id": "c96e91fb",
   "metadata": {},
   "outputs": [],
   "source": [
    " "
   ]
  }
 ],
 "metadata": {
  "kernelspec": {
   "display_name": "thesis-env",
   "language": "python",
   "name": "thesis-env"
  },
  "language_info": {
   "codemirror_mode": {
    "name": "ipython",
    "version": 3
   },
   "file_extension": ".py",
   "mimetype": "text/x-python",
   "name": "python",
   "nbconvert_exporter": "python",
   "pygments_lexer": "ipython3",
   "version": "3.10.4"
  }
 },
 "nbformat": 4,
 "nbformat_minor": 5
}
