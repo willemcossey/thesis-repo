{
 "cells": [
  {
   "cell_type": "code",
   "execution_count": null,
   "id": "71abd0e1",
   "metadata": {},
   "outputs": [],
   "source": [
    "import pandas as pd\n",
    "import numpy as np\n",
    "from math import sqrt\n",
    "from helper.Distribution import TruncatedNormal, Uniform\n",
    "from tqdm import tqdm\n",
    "import matplotlib.pyplot as plt"
   ]
  },
  {
   "cell_type": "markdown",
   "id": "a810973b",
   "metadata": {},
   "source": [
    "second moment"
   ]
  },
  {
   "cell_type": "code",
   "execution_count": null,
   "id": "14071ed7",
   "metadata": {},
   "outputs": [],
   "source": [
    "lamb = 1.2\n",
    "n_samples = 10000\n",
    "\n",
    "max_gamma = 0.15\n",
    "resolution = 0.001\n",
    "\n",
    "gamma_range = resolution*np.array(range(1,int(max_gamma/resolution),1))"
   ]
  },
  {
   "cell_type": "code",
   "execution_count": null,
   "id": "b7975432",
   "metadata": {},
   "outputs": [],
   "source": [
    "results = pd.DataFrame(index = gamma_range, columns = ['underlying std','sample std trunc', 'sample std uniform'])\n",
    "for gamma in tqdm(gamma_range):\n",
    "    underlying_std = sqrt(lamb*gamma)\n",
    "    B = sqrt(12)*underlying_std/2\n",
    "    assert B <= 1- gamma\n",
    "    su = Uniform(-B,B).sample(n_samples)\n",
    "    stn = TruncatedNormal(0,underlying_std,[-(1-gamma),(1-gamma)]).sample(n_samples)\n",
    "    results.loc[gamma,:] = [underlying_std,np.std(stn), np.std(su)]\n",
    "    \n",
    "    \n"
   ]
  },
  {
   "cell_type": "code",
   "execution_count": null,
   "id": "4e90d172",
   "metadata": {},
   "outputs": [],
   "source": [
    "results[\"rel_err_trunc\"] = abs(results[\"sample std trunc\"]-results[\"underlying std\"])/results[\"underlying std\"]\n",
    "results[\"rel_err_uniform\"] = abs(results[\"sample std uniform\"]-results[\"underlying std\"])/results[\"underlying std\"]\n",
    "#results[\"sample_lambda\"] = results[\"sample std trunc\"]**2/results.index"
   ]
  },
  {
   "cell_type": "code",
   "execution_count": null,
   "id": "2aafdd11",
   "metadata": {},
   "outputs": [],
   "source": [
    "display(results)"
   ]
  },
  {
   "cell_type": "code",
   "execution_count": null,
   "id": "932a40dd",
   "metadata": {},
   "outputs": [],
   "source": [
    "p = plt.figure()\n",
    "plt.plot(results.index, results[\"underlying std\"])\n",
    "plt.plot(results.index, results[\"sample std trunc\"])\n",
    "plt.plot(results.index, results[\"sample std uniform\"])\n",
    "plt.show"
   ]
  },
  {
   "cell_type": "code",
   "execution_count": null,
   "id": "2a05b24f",
   "metadata": {},
   "outputs": [],
   "source": [
    "r = plt.figure()\n",
    "plt.semilogy(results.index, results[\"rel_err_trunc\"])\n",
    "plt.semilogy(results.index, results[\"rel_err_uniform\"])\n",
    "plt.show"
   ]
  },
  {
   "cell_type": "markdown",
   "id": "61bdb3a2",
   "metadata": {},
   "source": [
    "first moment"
   ]
  },
  {
   "cell_type": "code",
   "execution_count": null,
   "id": "4aaad641",
   "metadata": {},
   "outputs": [],
   "source": [
    "mean_range = np.linspace(-1,1,20)\n",
    "std = 0.5"
   ]
  },
  {
   "cell_type": "code",
   "execution_count": null,
   "id": "9d91aa3e",
   "metadata": {},
   "outputs": [],
   "source": [
    "results = pd.DataFrame(index = mean_range, columns = ['underlying mean','sample mean trunc', 'sample mean uniform'])\n",
    "for mean in tqdm(mean_range):\n",
    "    mu = Uniform((-1+max(2*mean, 0)),(1+min(0, 2*mean))).sample(n_samples)\n",
    "    mtn = TruncatedNormal(mean,std,[-1,1]).sample(n_samples)\n",
    "    results.loc[mean,:] = [mean, np.mean(mtn), np.mean(mu)]"
   ]
  },
  {
   "cell_type": "code",
   "execution_count": null,
   "id": "b40566f2",
   "metadata": {},
   "outputs": [],
   "source": [
    "results[\"abs_err_trunc\"] = abs((results[\"sample mean trunc\"]-results[\"underlying mean\"]))\n",
    "results[\"abs_err_uniform\"] = abs((results[\"sample mean uniform\"]-results[\"underlying mean\"]))"
   ]
  },
  {
   "cell_type": "code",
   "execution_count": null,
   "id": "74fd8751",
   "metadata": {},
   "outputs": [],
   "source": [
    "display(results)\n"
   ]
  },
  {
   "cell_type": "code",
   "execution_count": null,
   "id": "c0ee51a4",
   "metadata": {},
   "outputs": [],
   "source": [
    "p = plt.figure()\n",
    "plt.plot(results.index, results[\"underlying mean\"],'x')\n",
    "plt.plot(results.index, results[\"sample mean trunc\"])\n",
    "plt.plot(results.index, results[\"sample mean uniform\"])\n",
    "plt.legend(['underlying', 'sample trunc', 'sample uniform'])\n",
    "plt.show"
   ]
  },
  {
   "cell_type": "code",
   "execution_count": null,
   "id": "d2439867",
   "metadata": {},
   "outputs": [],
   "source": [
    "r = plt.figure()\n",
    "plt.semilogy(results.index, results[\"abs_err_trunc\"])\n",
    "plt.semilogy(results.index, results[\"abs_err_uniform\"])\n",
    "plt.show"
   ]
  },
  {
   "cell_type": "code",
   "execution_count": null,
   "id": "222b624b",
   "metadata": {},
   "outputs": [],
   "source": []
  }
 ],
 "metadata": {
  "kernelspec": {
   "display_name": "thesis-env",
   "language": "python",
   "name": "thesis-env"
  },
  "language_info": {
   "codemirror_mode": {
    "name": "ipython",
    "version": 3
   },
   "file_extension": ".py",
   "mimetype": "text/x-python",
   "name": "python",
   "nbconvert_exporter": "python",
   "pygments_lexer": "ipython3",
   "version": "3.9.7"
  }
 },
 "nbformat": 4,
 "nbformat_minor": 5
}
